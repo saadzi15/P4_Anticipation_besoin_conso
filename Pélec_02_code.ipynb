{
 "cells": [
  {
   "cell_type": "markdown",
   "id": "6074748f",
   "metadata": {},
   "source": [
    "# Import des librairies"
   ]
  },
  {
   "cell_type": "code",
   "execution_count": 1,
   "id": "927ab0d2",
   "metadata": {},
   "outputs": [],
   "source": [
    "import pandas as pd\n",
    "import numpy as np\n",
    "import seaborn as sns\n",
    "import matplotlib.pyplot as plt"
   ]
  },
  {
   "cell_type": "markdown",
   "id": "fd04d8da",
   "metadata": {},
   "source": [
    "# Chargement du fichier"
   ]
  },
  {
   "cell_type": "code",
   "execution_count": 2,
   "id": "6b127860",
   "metadata": {},
   "outputs": [],
   "source": [
    "data=pd.read_csv('Data_cleané.csv',index_col=0)"
   ]
  },
  {
   "cell_type": "code",
   "execution_count": 3,
   "id": "34d65399",
   "metadata": {},
   "outputs": [
    {
     "data": {
      "text/html": [
       "<div>\n",
       "<style scoped>\n",
       "    .dataframe tbody tr th:only-of-type {\n",
       "        vertical-align: middle;\n",
       "    }\n",
       "\n",
       "    .dataframe tbody tr th {\n",
       "        vertical-align: top;\n",
       "    }\n",
       "\n",
       "    .dataframe thead th {\n",
       "        text-align: right;\n",
       "    }\n",
       "</style>\n",
       "<table border=\"1\" class=\"dataframe\">\n",
       "  <thead>\n",
       "    <tr style=\"text-align: right;\">\n",
       "      <th></th>\n",
       "      <th>OSEBuildingID</th>\n",
       "      <th>DataYear</th>\n",
       "      <th>BuildingType</th>\n",
       "      <th>PrimaryPropertyType</th>\n",
       "      <th>PropertyName</th>\n",
       "      <th>TaxParcelIdentificationNumber</th>\n",
       "      <th>CouncilDistrictCode</th>\n",
       "      <th>Neighborhood</th>\n",
       "      <th>YearBuilt</th>\n",
       "      <th>NumberofBuildings</th>\n",
       "      <th>...</th>\n",
       "      <th>SiteEnergyUse(kBtu)</th>\n",
       "      <th>SteamUse(kBtu)</th>\n",
       "      <th>Electricity(kBtu)</th>\n",
       "      <th>NaturalGas(kBtu)</th>\n",
       "      <th>DefaultData</th>\n",
       "      <th>ComplianceStatus</th>\n",
       "      <th>TotalGHGEmissions</th>\n",
       "      <th>GHGEmissionsIntensity</th>\n",
       "      <th>TotalGHGEmissionsLog</th>\n",
       "      <th>SiteEnergyUse(kBtu)Log</th>\n",
       "    </tr>\n",
       "  </thead>\n",
       "  <tbody>\n",
       "    <tr>\n",
       "      <th>0</th>\n",
       "      <td>1</td>\n",
       "      <td>2015</td>\n",
       "      <td>NonResidential</td>\n",
       "      <td>Hotel</td>\n",
       "      <td>MAYFLOWER PARK HOTEL</td>\n",
       "      <td>659000030</td>\n",
       "      <td>7</td>\n",
       "      <td>DOWNTOWN</td>\n",
       "      <td>1927</td>\n",
       "      <td>1.0</td>\n",
       "      <td>...</td>\n",
       "      <td>6981428.0</td>\n",
       "      <td>2023032.0</td>\n",
       "      <td>3686160.0</td>\n",
       "      <td>1272388.0</td>\n",
       "      <td>No</td>\n",
       "      <td>Compliant</td>\n",
       "      <td>249.43</td>\n",
       "      <td>2.64</td>\n",
       "      <td>2.396949</td>\n",
       "      <td>6.843944</td>\n",
       "    </tr>\n",
       "    <tr>\n",
       "      <th>1</th>\n",
       "      <td>2</td>\n",
       "      <td>2015</td>\n",
       "      <td>NonResidential</td>\n",
       "      <td>Hotel</td>\n",
       "      <td>PARAMOUNT HOTEL</td>\n",
       "      <td>659000220</td>\n",
       "      <td>7</td>\n",
       "      <td>DOWNTOWN</td>\n",
       "      <td>1996</td>\n",
       "      <td>1.0</td>\n",
       "      <td>...</td>\n",
       "      <td>8354235.0</td>\n",
       "      <td>0.0</td>\n",
       "      <td>3905411.0</td>\n",
       "      <td>4448985.0</td>\n",
       "      <td>No</td>\n",
       "      <td>Compliant</td>\n",
       "      <td>263.51</td>\n",
       "      <td>2.38</td>\n",
       "      <td>2.420797</td>\n",
       "      <td>6.921907</td>\n",
       "    </tr>\n",
       "    <tr>\n",
       "      <th>2</th>\n",
       "      <td>3</td>\n",
       "      <td>2015</td>\n",
       "      <td>NonResidential</td>\n",
       "      <td>Hotel</td>\n",
       "      <td>WESTIN HOTEL</td>\n",
       "      <td>659000475</td>\n",
       "      <td>7</td>\n",
       "      <td>DOWNTOWN</td>\n",
       "      <td>1969</td>\n",
       "      <td>1.0</td>\n",
       "      <td>...</td>\n",
       "      <td>73130656.0</td>\n",
       "      <td>19660404.0</td>\n",
       "      <td>49762435.0</td>\n",
       "      <td>3709900.0</td>\n",
       "      <td>Yes</td>\n",
       "      <td>Compliant</td>\n",
       "      <td>2061.48</td>\n",
       "      <td>1.92</td>\n",
       "      <td>3.314179</td>\n",
       "      <td>7.864099</td>\n",
       "    </tr>\n",
       "    <tr>\n",
       "      <th>3</th>\n",
       "      <td>5</td>\n",
       "      <td>2015</td>\n",
       "      <td>NonResidential</td>\n",
       "      <td>Hotel</td>\n",
       "      <td>HOTEL MAX</td>\n",
       "      <td>659000640</td>\n",
       "      <td>7</td>\n",
       "      <td>DOWNTOWN</td>\n",
       "      <td>1926</td>\n",
       "      <td>1.0</td>\n",
       "      <td>...</td>\n",
       "      <td>28229320.0</td>\n",
       "      <td>23458518.0</td>\n",
       "      <td>2769023.0</td>\n",
       "      <td>2001894.0</td>\n",
       "      <td>No</td>\n",
       "      <td>Compliant</td>\n",
       "      <td>1936.34</td>\n",
       "      <td>31.38</td>\n",
       "      <td>3.286982</td>\n",
       "      <td>7.450700</td>\n",
       "    </tr>\n",
       "    <tr>\n",
       "      <th>4</th>\n",
       "      <td>8</td>\n",
       "      <td>2015</td>\n",
       "      <td>NonResidential</td>\n",
       "      <td>Hotel</td>\n",
       "      <td>WARWICK SEATTLE HOTEL</td>\n",
       "      <td>659000970</td>\n",
       "      <td>7</td>\n",
       "      <td>DOWNTOWN</td>\n",
       "      <td>1980</td>\n",
       "      <td>1.0</td>\n",
       "      <td>...</td>\n",
       "      <td>14829099.0</td>\n",
       "      <td>0.0</td>\n",
       "      <td>6066245.0</td>\n",
       "      <td>8763105.0</td>\n",
       "      <td>No</td>\n",
       "      <td>Compliant</td>\n",
       "      <td>507.70</td>\n",
       "      <td>4.02</td>\n",
       "      <td>2.705607</td>\n",
       "      <td>7.171115</td>\n",
       "    </tr>\n",
       "  </tbody>\n",
       "</table>\n",
       "<p>5 rows × 31 columns</p>\n",
       "</div>"
      ],
      "text/plain": [
       "   OSEBuildingID  DataYear    BuildingType PrimaryPropertyType  \\\n",
       "0              1      2015  NonResidential               Hotel   \n",
       "1              2      2015  NonResidential               Hotel   \n",
       "2              3      2015  NonResidential               Hotel   \n",
       "3              5      2015  NonResidential               Hotel   \n",
       "4              8      2015  NonResidential               Hotel   \n",
       "\n",
       "            PropertyName TaxParcelIdentificationNumber  CouncilDistrictCode  \\\n",
       "0   MAYFLOWER PARK HOTEL                     659000030                    7   \n",
       "1        PARAMOUNT HOTEL                     659000220                    7   \n",
       "2           WESTIN HOTEL                     659000475                    7   \n",
       "3              HOTEL MAX                     659000640                    7   \n",
       "4  WARWICK SEATTLE HOTEL                     659000970                    7   \n",
       "\n",
       "  Neighborhood  YearBuilt  NumberofBuildings  ...  SiteEnergyUse(kBtu)  \\\n",
       "0     DOWNTOWN       1927                1.0  ...            6981428.0   \n",
       "1     DOWNTOWN       1996                1.0  ...            8354235.0   \n",
       "2     DOWNTOWN       1969                1.0  ...           73130656.0   \n",
       "3     DOWNTOWN       1926                1.0  ...           28229320.0   \n",
       "4     DOWNTOWN       1980                1.0  ...           14829099.0   \n",
       "\n",
       "   SteamUse(kBtu)  Electricity(kBtu)  NaturalGas(kBtu) DefaultData  \\\n",
       "0       2023032.0          3686160.0         1272388.0          No   \n",
       "1             0.0          3905411.0         4448985.0          No   \n",
       "2      19660404.0         49762435.0         3709900.0         Yes   \n",
       "3      23458518.0          2769023.0         2001894.0          No   \n",
       "4             0.0          6066245.0         8763105.0          No   \n",
       "\n",
       "  ComplianceStatus TotalGHGEmissions  GHGEmissionsIntensity  \\\n",
       "0        Compliant            249.43                   2.64   \n",
       "1        Compliant            263.51                   2.38   \n",
       "2        Compliant           2061.48                   1.92   \n",
       "3        Compliant           1936.34                  31.38   \n",
       "4        Compliant            507.70                   4.02   \n",
       "\n",
       "   TotalGHGEmissionsLog  SiteEnergyUse(kBtu)Log  \n",
       "0              2.396949                6.843944  \n",
       "1              2.420797                6.921907  \n",
       "2              3.314179                7.864099  \n",
       "3              3.286982                7.450700  \n",
       "4              2.705607                7.171115  \n",
       "\n",
       "[5 rows x 31 columns]"
      ]
     },
     "execution_count": 3,
     "metadata": {},
     "output_type": "execute_result"
    }
   ],
   "source": [
    "data.head()"
   ]
  },
  {
   "cell_type": "markdown",
   "id": "d0bb96ea",
   "metadata": {},
   "source": [
    "# Analyse des features"
   ]
  },
  {
   "cell_type": "code",
   "execution_count": 4,
   "id": "e3fe4bd6",
   "metadata": {},
   "outputs": [
    {
     "data": {
      "text/plain": [
       "Index(['OSEBuildingID', 'DataYear', 'BuildingType', 'PrimaryPropertyType',\n",
       "       'PropertyName', 'TaxParcelIdentificationNumber', 'CouncilDistrictCode',\n",
       "       'Neighborhood', 'YearBuilt', 'NumberofBuildings', 'NumberofFloors',\n",
       "       'PropertyGFATotal', 'PropertyGFAParking', 'PropertyGFABuilding(s)',\n",
       "       'ListOfAllPropertyUseTypes', 'LargestPropertyUseType',\n",
       "       'SecondLargestPropertyUseType', 'SecondLargestPropertyUseTypeGFA',\n",
       "       'ENERGYSTARScore', 'SiteEUI(kBtu/sf)', 'SourceEUI(kBtu/sf)',\n",
       "       'SiteEnergyUse(kBtu)', 'SteamUse(kBtu)', 'Electricity(kBtu)',\n",
       "       'NaturalGas(kBtu)', 'DefaultData', 'ComplianceStatus',\n",
       "       'TotalGHGEmissions', 'GHGEmissionsIntensity', 'TotalGHGEmissionsLog',\n",
       "       'SiteEnergyUse(kBtu)Log'],\n",
       "      dtype='object')"
      ]
     },
     "execution_count": 4,
     "metadata": {},
     "output_type": "execute_result"
    }
   ],
   "source": [
    "data.columns"
   ]
  },
  {
   "cell_type": "markdown",
   "id": "f847f39c",
   "metadata": {},
   "source": [
    "Dans les colonnes importantes, notre analyse nous mène vers les variables suivantes : 'PrimaryPropertyType', 'Neighborhood', 'YearBuilt', 'NumberofBuildings','NumberofFloors', 'PropertyGFAParking', 'ENERGYSTARScore', 'PropertyGFATotalLog', 'SiteEnergyUse(kBtu)Log','TotalGHGEmissionsLog']. On supprime donc les colonnes qui ne nous serviront pas pour notre entrainement de Machine Learning"
   ]
  },
  {
   "cell_type": "code",
   "execution_count": 5,
   "id": "8526de02",
   "metadata": {},
   "outputs": [],
   "source": [
    "data.drop(['OSEBuildingID', 'BuildingType', 'PropertyName', 'TaxParcelIdentificationNumber','CouncilDistrictCode','ListOfAllPropertyUseTypes', 'SecondLargestPropertyUseType','SecondLargestPropertyUseTypeGFA', 'SiteEUI(kBtu/sf)', 'SourceEUI(kBtu/sf)', 'DefaultData','ComplianceStatus', 'LargestPropertyUseType','DataYear'], axis=1, inplace=True)"
   ]
  },
  {
   "cell_type": "code",
   "execution_count": 6,
   "id": "5b95b3d3",
   "metadata": {},
   "outputs": [
    {
     "data": {
      "text/plain": [
       "Index(['PrimaryPropertyType', 'Neighborhood', 'YearBuilt', 'NumberofBuildings',\n",
       "       'NumberofFloors', 'PropertyGFATotal', 'PropertyGFAParking',\n",
       "       'PropertyGFABuilding(s)', 'ENERGYSTARScore', 'SiteEnergyUse(kBtu)',\n",
       "       'SteamUse(kBtu)', 'Electricity(kBtu)', 'NaturalGas(kBtu)',\n",
       "       'TotalGHGEmissions', 'GHGEmissionsIntensity', 'TotalGHGEmissionsLog',\n",
       "       'SiteEnergyUse(kBtu)Log'],\n",
       "      dtype='object')"
      ]
     },
     "execution_count": 6,
     "metadata": {},
     "output_type": "execute_result"
    }
   ],
   "source": [
    "data.columns"
   ]
  },
  {
   "cell_type": "markdown",
   "id": "9f27aa5a",
   "metadata": {},
   "source": [
    "Nous prenons des variables numériques \"numeric\" et des variables catégorielles \"categ\" pour notre étude. "
   ]
  },
  {
   "cell_type": "code",
   "execution_count": 7,
   "id": "da589c21",
   "metadata": {},
   "outputs": [],
   "source": [
    "numeric = data.select_dtypes(include=['int64','float64'])\n",
    "categ = data.select_dtypes(exclude=['int64','float64'])"
   ]
  },
  {
   "cell_type": "markdown",
   "id": "6fbb0dd5",
   "metadata": {},
   "source": [
    "Suite à l'analyse des différentes features, les variables catégorielles que nous prendrons pour cette étude sont \"Neighborhood\" et \"PrimaryPropertyType\". Analysons déjà le contenu de ces variables."
   ]
  },
  {
   "cell_type": "code",
   "execution_count": 8,
   "id": "078f0fa4",
   "metadata": {},
   "outputs": [
    {
     "data": {
      "text/plain": [
       "Small- and Mid-Sized Office    584\n",
       "Other                          497\n",
       "Large Office                   341\n",
       "K-12 School                    266\n",
       "Mixed Use Property             220\n",
       "Retail Store                   190\n",
       "Warehouse                      187\n",
       "Non-Refrigerated Warehouse     184\n",
       "Hotel                          149\n",
       "Worship Facility               143\n",
       "Medical Office                  82\n",
       "Distribution Center             55\n",
       "Distribution Center\\n           51\n",
       "Senior Care Community           39\n",
       "Supermarket / Grocery Store     39\n",
       "Supermarket/Grocery Store       36\n",
       "Self-Storage Facility           29\n",
       "Self-Storage Facility\\n         27\n",
       "Refrigerated Warehouse          25\n",
       "University                      24\n",
       "Residence Hall                  21\n",
       "College/University              21\n",
       "Hospital                        20\n",
       "Residence Hall/Dormitory        15\n",
       "Restaurant                      12\n",
       "Restaurant\\n                    11\n",
       "Laboratory                      11\n",
       "Low-Rise Multifamily             5\n",
       "SPS-District K-12                4\n",
       "Office                           3\n",
       "Name: PrimaryPropertyType, dtype: int64"
      ]
     },
     "execution_count": 8,
     "metadata": {},
     "output_type": "execute_result"
    }
   ],
   "source": [
    "data['PrimaryPropertyType'].value_counts(dropna=False)"
   ]
  },
  {
   "cell_type": "code",
   "execution_count": 9,
   "id": "981dc6b4",
   "metadata": {},
   "outputs": [
    {
     "data": {
      "text/plain": [
       "DOWNTOWN                  721\n",
       "GREATER DUWAMISH          683\n",
       "MAGNOLIA / QUEEN ANNE     298\n",
       "LAKE UNION                295\n",
       "NORTHEAST                 243\n",
       "EAST                      241\n",
       "NORTHWEST                 167\n",
       "BALLARD                   130\n",
       "NORTH                     121\n",
       "CENTRAL                   102\n",
       "SOUTHEAST                  91\n",
       "DELRIDGE                   87\n",
       "SOUTHWEST                  83\n",
       "North                       9\n",
       "Ballard                     6\n",
       "Northwest                   5\n",
       "Delridge                    4\n",
       "Central                     4\n",
       "DELRIDGE NEIGHBORHOODS      1\n",
       "Name: Neighborhood, dtype: int64"
      ]
     },
     "execution_count": 9,
     "metadata": {},
     "output_type": "execute_result"
    }
   ],
   "source": [
    "data['Neighborhood'].value_counts(dropna=False)"
   ]
  },
  {
   "cell_type": "markdown",
   "id": "57e1ff73",
   "metadata": {},
   "source": [
    "Nous remarquons que les variables catégorielles peuvent être divisées en plusieurs groupes. Pour la feature \"PrimaryPropertyType\", on distingue plusieurs types de constructions non résidentielles : Des constructions de famille, des batiments de travail, des batiments éducatifs, des batiments de stockage et des batiments de vie commerciale. Nous allons donc diviser les contenants en sous parties."
   ]
  },
  {
   "cell_type": "code",
   "execution_count": 10,
   "id": "4b84d000",
   "metadata": {},
   "outputs": [
    {
     "data": {
      "text/plain": [
       "array(['Hotel', 'Other', 'Commercial', 'Education', 'Office', 'Storage',\n",
       "       'Medical', 'Worship Facility', 'Family'], dtype=object)"
      ]
     },
     "execution_count": 10,
     "metadata": {},
     "output_type": "execute_result"
    }
   ],
   "source": [
    "data['PrimaryPropertyType'] = data['PrimaryPropertyType'].replace(to_replace =['Small- and Mid-Sized Office', 'Large Office','Office'], value =\"Office\")\n",
    "\n",
    "data['PrimaryPropertyType'] = data['PrimaryPropertyType'].replace(to_replace =['Medical Office', 'Laboratory', 'Hospital', 'Senior Care Community'], value =\"Medical\")\n",
    "\n",
    "data['PrimaryPropertyType'] = data['PrimaryPropertyType'].replace(to_replace =['K-12 School', 'University', 'Residence Hall','College/University', 'Residence Hall/Dormitory', 'Residence Hall/Dormitory', 'SPS-District K-12'], value =\"Education\")\n",
    "\n",
    "data['PrimaryPropertyType']  = data['PrimaryPropertyType'].replace(to_replace =['Warehouse', 'Refrigerated Warehouse', 'Non-Refrigerated Warehouse', 'Self-Storage Facility','Self-Storage Facility\\n'], value =\"Storage\")\n",
    "\n",
    "data['PrimaryPropertyType'] = data['PrimaryPropertyType'].replace(to_replace =['Retail Store','Distribution Center','Mixed Use Property', 'Distribution Center\\n','Supermarket / Grocery Store','Supermarket/Grocery Store', 'Restaurant', 'Restaurant\\n'], value =\"Commercial\")\n",
    "\n",
    "data['PrimaryPropertyType'] = data['PrimaryPropertyType'].replace(to_replace =['Low-Rise Multifamily'], value =\"Family\")\n",
    "\n",
    "data['PrimaryPropertyType'].unique()"
   ]
  },
  {
   "cell_type": "code",
   "execution_count": 11,
   "id": "03855458",
   "metadata": {},
   "outputs": [
    {
     "data": {
      "image/png": "[encoded data removed]",
      "text/plain": [
       "<Figure size 504x360 with 1 Axes>"
      ]
     },
     "metadata": {
      "needs_background": "light"
     },
     "output_type": "display_data"
    }
   ],
   "source": [
    "plt.figure(figsize=(7,5))\n",
    "sns.countplot(y=\"PrimaryPropertyType\", data=data)\n",
    "plt.ylim(10)\n",
    "plt.ylabel(\"PrimaryPropertyType\")\n",
    "plt.title(\"Répartition du PrimaryPropertyType suite à l'analyse\")\n",
    "plt.show()"
   ]
  },
  {
   "cell_type": "markdown",
   "id": "e3ae3815",
   "metadata": {},
   "source": [
    "Le même raisonnement est effectué pour le \"Neighborhood\". Suite à une analyse géographique de tous les voisinages proposés, nous pouvons les répertorier sur 4 catégories : Le nord, le sud, l'ouest et le centre/est."
   ]
  },
  {
   "cell_type": "code",
   "execution_count": null,
   "id": "684232cf",
   "metadata": {},
   "outputs": [],
   "source": [
    "#North = 'NORTHEAST', 'NORTH ', 'North', 'NORTHWEST', 'Northwest'\n",
    "#West = [['BALLARD', 'Ballard' 'MAGNOLIA / QUEEN ANNE', 'Delridge', 'DELRIDGE NEIGHBORHOODS', 'DELRIDGE', 'GREATER DUWAMISH']]\n",
    "#South = [['SOUTHWEST','SOUTHEAST', 'LAKE UNION']]\n",
    "#Center_East = [['DOWNTOWN', 'Central', 'CENTRAL', 'EAST']]"
   ]
  },
  {
   "cell_type": "code",
   "execution_count": 12,
   "id": "e3983c3a",
   "metadata": {},
   "outputs": [
    {
     "data": {
      "text/plain": [
       "array(['Center / East', 'South', 'North', 'West'], dtype=object)"
      ]
     },
     "execution_count": 12,
     "metadata": {},
     "output_type": "execute_result"
    }
   ],
   "source": [
    "data['Neighborhood'] = data['Neighborhood'].replace(to_replace =['NORTHEAST', 'NORTH', 'North', 'NORTHWEST', 'Northwest'],\n",
    "                                                    value =\"North\")\n",
    "\n",
    "data['Neighborhood'] = data['Neighborhood'].replace(to_replace =['BALLARD', 'West', 'Ballard', 'MAGNOLIA / QUEEN ANNE', 'Delridge',\n",
    "                                                                 'DELRIDGE NEIGHBORHOODS', 'DELRIDGE', 'GREATER DUWAMISH'],value =\"West\")\n",
    "data['Neighborhood'] = data['Neighborhood'].replace(to_replace =['SOUTHWEST','SOUTHEAST', 'LAKE UNION'], value =\"South\")\n",
    "data['Neighborhood'] = data['Neighborhood'].replace(to_replace =['DOWNTOWN', 'Central', 'CENTRAL', 'EAST'], value =\"Center / East\")\n",
    "\n",
    "data['Neighborhood'].unique()"
   ]
  },
  {
   "cell_type": "code",
   "execution_count": 13,
   "id": "718c1060",
   "metadata": {},
   "outputs": [
    {
     "data": {
      "image/png": "[encoded data removed]",
      "text/plain": [
       "<Figure size 432x288 with 1 Axes>"
      ]
     },
     "metadata": {},
     "output_type": "display_data"
    }
   ],
   "source": [
    "proportion_neighborhood = data[\"Neighborhood\"].value_counts() \n",
    "labels = proportion_neighborhood.index\n",
    "fig, ax = plt.subplots()\n",
    "ax.pie(proportion_neighborhood, labels=labels, autopct='%1.1f%%', shadow=True, startangle=90)\n",
    "ax.axis('equal')\n",
    "plt.show()"
   ]
  },
  {
   "cell_type": "code",
   "execution_count": 14,
   "id": "f9fb8f43",
   "metadata": {},
   "outputs": [
    {
     "data": {
      "text/html": [
       "<div>\n",
       "<style scoped>\n",
       "    .dataframe tbody tr th:only-of-type {\n",
       "        vertical-align: middle;\n",
       "    }\n",
       "\n",
       "    .dataframe tbody tr th {\n",
       "        vertical-align: top;\n",
       "    }\n",
       "\n",
       "    .dataframe thead th {\n",
       "        text-align: right;\n",
       "    }\n",
       "</style>\n",
       "<table border=\"1\" class=\"dataframe\">\n",
       "  <thead>\n",
       "    <tr style=\"text-align: right;\">\n",
       "      <th></th>\n",
       "      <th>PrimaryPropertyType</th>\n",
       "      <th>Neighborhood</th>\n",
       "      <th>YearBuilt</th>\n",
       "      <th>NumberofBuildings</th>\n",
       "      <th>NumberofFloors</th>\n",
       "      <th>PropertyGFATotal</th>\n",
       "      <th>PropertyGFAParking</th>\n",
       "      <th>PropertyGFABuilding(s)</th>\n",
       "      <th>ENERGYSTARScore</th>\n",
       "      <th>SiteEnergyUse(kBtu)</th>\n",
       "      <th>SteamUse(kBtu)</th>\n",
       "      <th>Electricity(kBtu)</th>\n",
       "      <th>NaturalGas(kBtu)</th>\n",
       "      <th>TotalGHGEmissions</th>\n",
       "      <th>GHGEmissionsIntensity</th>\n",
       "      <th>TotalGHGEmissionsLog</th>\n",
       "      <th>SiteEnergyUse(kBtu)Log</th>\n",
       "    </tr>\n",
       "  </thead>\n",
       "  <tbody>\n",
       "    <tr>\n",
       "      <th>0</th>\n",
       "      <td>Hotel</td>\n",
       "      <td>Center / East</td>\n",
       "      <td>1927</td>\n",
       "      <td>1.0</td>\n",
       "      <td>12.0</td>\n",
       "      <td>88434</td>\n",
       "      <td>0</td>\n",
       "      <td>88434</td>\n",
       "      <td>65.0</td>\n",
       "      <td>6981428.0</td>\n",
       "      <td>2023032.0</td>\n",
       "      <td>3686160.0</td>\n",
       "      <td>1272388.0</td>\n",
       "      <td>249.43</td>\n",
       "      <td>2.64</td>\n",
       "      <td>2.396949</td>\n",
       "      <td>6.843944</td>\n",
       "    </tr>\n",
       "    <tr>\n",
       "      <th>1</th>\n",
       "      <td>Hotel</td>\n",
       "      <td>Center / East</td>\n",
       "      <td>1996</td>\n",
       "      <td>1.0</td>\n",
       "      <td>11.0</td>\n",
       "      <td>103566</td>\n",
       "      <td>15064</td>\n",
       "      <td>88502</td>\n",
       "      <td>51.0</td>\n",
       "      <td>8354235.0</td>\n",
       "      <td>0.0</td>\n",
       "      <td>3905411.0</td>\n",
       "      <td>4448985.0</td>\n",
       "      <td>263.51</td>\n",
       "      <td>2.38</td>\n",
       "      <td>2.420797</td>\n",
       "      <td>6.921907</td>\n",
       "    </tr>\n",
       "    <tr>\n",
       "      <th>2</th>\n",
       "      <td>Hotel</td>\n",
       "      <td>Center / East</td>\n",
       "      <td>1969</td>\n",
       "      <td>1.0</td>\n",
       "      <td>41.0</td>\n",
       "      <td>961990</td>\n",
       "      <td>0</td>\n",
       "      <td>961990</td>\n",
       "      <td>18.0</td>\n",
       "      <td>73130656.0</td>\n",
       "      <td>19660404.0</td>\n",
       "      <td>49762435.0</td>\n",
       "      <td>3709900.0</td>\n",
       "      <td>2061.48</td>\n",
       "      <td>1.92</td>\n",
       "      <td>3.314179</td>\n",
       "      <td>7.864099</td>\n",
       "    </tr>\n",
       "    <tr>\n",
       "      <th>3</th>\n",
       "      <td>Hotel</td>\n",
       "      <td>Center / East</td>\n",
       "      <td>1926</td>\n",
       "      <td>1.0</td>\n",
       "      <td>10.0</td>\n",
       "      <td>61320</td>\n",
       "      <td>0</td>\n",
       "      <td>61320</td>\n",
       "      <td>1.0</td>\n",
       "      <td>28229320.0</td>\n",
       "      <td>23458518.0</td>\n",
       "      <td>2769023.0</td>\n",
       "      <td>2001894.0</td>\n",
       "      <td>1936.34</td>\n",
       "      <td>31.38</td>\n",
       "      <td>3.286982</td>\n",
       "      <td>7.450700</td>\n",
       "    </tr>\n",
       "    <tr>\n",
       "      <th>4</th>\n",
       "      <td>Hotel</td>\n",
       "      <td>Center / East</td>\n",
       "      <td>1980</td>\n",
       "      <td>1.0</td>\n",
       "      <td>18.0</td>\n",
       "      <td>119890</td>\n",
       "      <td>12460</td>\n",
       "      <td>107430</td>\n",
       "      <td>67.0</td>\n",
       "      <td>14829099.0</td>\n",
       "      <td>0.0</td>\n",
       "      <td>6066245.0</td>\n",
       "      <td>8763105.0</td>\n",
       "      <td>507.70</td>\n",
       "      <td>4.02</td>\n",
       "      <td>2.705607</td>\n",
       "      <td>7.171115</td>\n",
       "    </tr>\n",
       "  </tbody>\n",
       "</table>\n",
       "</div>"
      ],
      "text/plain": [
       "  PrimaryPropertyType   Neighborhood  YearBuilt  NumberofBuildings  \\\n",
       "0               Hotel  Center / East       1927                1.0   \n",
       "1               Hotel  Center / East       1996                1.0   \n",
       "2               Hotel  Center / East       1969                1.0   \n",
       "3               Hotel  Center / East       1926                1.0   \n",
       "4               Hotel  Center / East       1980                1.0   \n",
       "\n",
       "   NumberofFloors  PropertyGFATotal  PropertyGFAParking  \\\n",
       "0            12.0             88434                   0   \n",
       "1            11.0            103566               15064   \n",
       "2            41.0            961990                   0   \n",
       "3            10.0             61320                   0   \n",
       "4            18.0            119890               12460   \n",
       "\n",
       "   PropertyGFABuilding(s)  ENERGYSTARScore  SiteEnergyUse(kBtu)  \\\n",
       "0                   88434             65.0            6981428.0   \n",
       "1                   88502             51.0            8354235.0   \n",
       "2                  961990             18.0           73130656.0   \n",
       "3                   61320              1.0           28229320.0   \n",
       "4                  107430             67.0           14829099.0   \n",
       "\n",
       "   SteamUse(kBtu)  Electricity(kBtu)  NaturalGas(kBtu)  TotalGHGEmissions  \\\n",
       "0       2023032.0          3686160.0         1272388.0             249.43   \n",
       "1             0.0          3905411.0         4448985.0             263.51   \n",
       "2      19660404.0         49762435.0         3709900.0            2061.48   \n",
       "3      23458518.0          2769023.0         2001894.0            1936.34   \n",
       "4             0.0          6066245.0         8763105.0             507.70   \n",
       "\n",
       "   GHGEmissionsIntensity  TotalGHGEmissionsLog  SiteEnergyUse(kBtu)Log  \n",
       "0                   2.64              2.396949                6.843944  \n",
       "1                   2.38              2.420797                6.921907  \n",
       "2                   1.92              3.314179                7.864099  \n",
       "3                  31.38              3.286982                7.450700  \n",
       "4                   4.02              2.705607                7.171115  "
      ]
     },
     "execution_count": 14,
     "metadata": {},
     "output_type": "execute_result"
    }
   ],
   "source": [
    "data.head()"
   ]
  },
  {
   "cell_type": "markdown",
   "id": "0fda7ce2",
   "metadata": {},
   "source": [
    "# Encodage de nos variables catégorielles"
   ]
  },
  {
   "cell_type": "markdown",
   "id": "0f4f8089",
   "metadata": {},
   "source": [
    "Nous encodons nos 2 variables catégorielles pour pouvoir les utiliser dans notre algorithme de Machine Learning"
   ]
  },
  {
   "cell_type": "code",
   "execution_count": 15,
   "id": "2950cf39",
   "metadata": {},
   "outputs": [],
   "source": [
    "from sklearn.preprocessing import OneHotEncoder, LabelEncoder"
   ]
  },
  {
   "cell_type": "code",
   "execution_count": 16,
   "id": "7fdaeef0",
   "metadata": {},
   "outputs": [],
   "source": [
    "oe_style = OneHotEncoder()\n",
    "oe_results = oe_style.fit_transform(data[[\"Neighborhood\"]])\n",
    "data_neigh =pd.DataFrame(oe_results.toarray(), columns=oe_style.categories_)"
   ]
  },
  {
   "cell_type": "code",
   "execution_count": 17,
   "id": "f299c8b4",
   "metadata": {},
   "outputs": [
    {
     "data": {
      "text/html": [
       "<div>\n",
       "<style scoped>\n",
       "    .dataframe tbody tr th:only-of-type {\n",
       "        vertical-align: middle;\n",
       "    }\n",
       "\n",
       "    .dataframe tbody tr th {\n",
       "        vertical-align: top;\n",
       "    }\n",
       "\n",
       "    .dataframe thead tr th {\n",
       "        text-align: left;\n",
       "    }\n",
       "</style>\n",
       "<table border=\"1\" class=\"dataframe\">\n",
       "  <thead>\n",
       "    <tr>\n",
       "      <th></th>\n",
       "      <th>Center / East</th>\n",
       "      <th>North</th>\n",
       "      <th>South</th>\n",
       "      <th>West</th>\n",
       "    </tr>\n",
       "  </thead>\n",
       "  <tbody>\n",
       "    <tr>\n",
       "      <th>0</th>\n",
       "      <td>1.0</td>\n",
       "      <td>0.0</td>\n",
       "      <td>0.0</td>\n",
       "      <td>0.0</td>\n",
       "    </tr>\n",
       "    <tr>\n",
       "      <th>1</th>\n",
       "      <td>1.0</td>\n",
       "      <td>0.0</td>\n",
       "      <td>0.0</td>\n",
       "      <td>0.0</td>\n",
       "    </tr>\n",
       "    <tr>\n",
       "      <th>2</th>\n",
       "      <td>1.0</td>\n",
       "      <td>0.0</td>\n",
       "      <td>0.0</td>\n",
       "      <td>0.0</td>\n",
       "    </tr>\n",
       "    <tr>\n",
       "      <th>3</th>\n",
       "      <td>1.0</td>\n",
       "      <td>0.0</td>\n",
       "      <td>0.0</td>\n",
       "      <td>0.0</td>\n",
       "    </tr>\n",
       "    <tr>\n",
       "      <th>4</th>\n",
       "      <td>1.0</td>\n",
       "      <td>0.0</td>\n",
       "      <td>0.0</td>\n",
       "      <td>0.0</td>\n",
       "    </tr>\n",
       "    <tr>\n",
       "      <th>...</th>\n",
       "      <td>...</td>\n",
       "      <td>...</td>\n",
       "      <td>...</td>\n",
       "      <td>...</td>\n",
       "    </tr>\n",
       "    <tr>\n",
       "      <th>3286</th>\n",
       "      <td>0.0</td>\n",
       "      <td>0.0</td>\n",
       "      <td>0.0</td>\n",
       "      <td>1.0</td>\n",
       "    </tr>\n",
       "    <tr>\n",
       "      <th>3287</th>\n",
       "      <td>1.0</td>\n",
       "      <td>0.0</td>\n",
       "      <td>0.0</td>\n",
       "      <td>0.0</td>\n",
       "    </tr>\n",
       "    <tr>\n",
       "      <th>3288</th>\n",
       "      <td>0.0</td>\n",
       "      <td>0.0</td>\n",
       "      <td>0.0</td>\n",
       "      <td>1.0</td>\n",
       "    </tr>\n",
       "    <tr>\n",
       "      <th>3289</th>\n",
       "      <td>0.0</td>\n",
       "      <td>0.0</td>\n",
       "      <td>0.0</td>\n",
       "      <td>1.0</td>\n",
       "    </tr>\n",
       "    <tr>\n",
       "      <th>3290</th>\n",
       "      <td>0.0</td>\n",
       "      <td>0.0</td>\n",
       "      <td>0.0</td>\n",
       "      <td>1.0</td>\n",
       "    </tr>\n",
       "  </tbody>\n",
       "</table>\n",
       "<p>3291 rows × 4 columns</p>\n",
       "</div>"
      ],
      "text/plain": [
       "     Center / East North South West\n",
       "0              1.0   0.0   0.0  0.0\n",
       "1              1.0   0.0   0.0  0.0\n",
       "2              1.0   0.0   0.0  0.0\n",
       "3              1.0   0.0   0.0  0.0\n",
       "4              1.0   0.0   0.0  0.0\n",
       "...            ...   ...   ...  ...\n",
       "3286           0.0   0.0   0.0  1.0\n",
       "3287           1.0   0.0   0.0  0.0\n",
       "3288           0.0   0.0   0.0  1.0\n",
       "3289           0.0   0.0   0.0  1.0\n",
       "3290           0.0   0.0   0.0  1.0\n",
       "\n",
       "[3291 rows x 4 columns]"
      ]
     },
     "execution_count": 17,
     "metadata": {},
     "output_type": "execute_result"
    }
   ],
   "source": [
    "data_neigh"
   ]
  },
  {
   "cell_type": "code",
   "execution_count": 18,
   "id": "9785a33d",
   "metadata": {},
   "outputs": [],
   "source": [
    "pr_style = OneHotEncoder()\n",
    "pr_results = pr_style.fit_transform(data[[\"PrimaryPropertyType\"]])\n",
    "data_pr=pd.DataFrame(pr_results.toarray(), columns=pr_style.categories_)"
   ]
  },
  {
   "cell_type": "code",
   "execution_count": 19,
   "id": "be8927d1",
   "metadata": {},
   "outputs": [
    {
     "data": {
      "text/plain": [
       "MultiIndex([(           'index',),\n",
       "            (      'Commercial',),\n",
       "            (       'Education',),\n",
       "            (          'Family',),\n",
       "            (           'Hotel',),\n",
       "            (         'Medical',),\n",
       "            (          'Office',),\n",
       "            (           'Other',),\n",
       "            (         'Storage',),\n",
       "            ('Worship Facility',)],\n",
       "           )"
      ]
     },
     "execution_count": 19,
     "metadata": {},
     "output_type": "execute_result"
    }
   ],
   "source": [
    "data_pr.reset_index().columns"
   ]
  },
  {
   "cell_type": "markdown",
   "id": "4ab7d292",
   "metadata": {},
   "source": [
    "# Concaténation "
   ]
  },
  {
   "cell_type": "code",
   "execution_count": 20,
   "id": "8985a8f1",
   "metadata": {},
   "outputs": [],
   "source": [
    "data.reset_index(inplace=True, drop=True)"
   ]
  },
  {
   "cell_type": "code",
   "execution_count": 21,
   "id": "e6091899",
   "metadata": {},
   "outputs": [],
   "source": [
    "data = pd.concat([data,data_neigh, data_pr],axis=1)"
   ]
  },
  {
   "cell_type": "code",
   "execution_count": 22,
   "id": "9f957b36",
   "metadata": {},
   "outputs": [],
   "source": [
    "data.dropna(axis=0, inplace=True)"
   ]
  },
  {
   "cell_type": "code",
   "execution_count": 23,
   "id": "4b57baa7",
   "metadata": {},
   "outputs": [
    {
     "data": {
      "text/html": [
       "<div>\n",
       "<style scoped>\n",
       "    .dataframe tbody tr th:only-of-type {\n",
       "        vertical-align: middle;\n",
       "    }\n",
       "\n",
       "    .dataframe tbody tr th {\n",
       "        vertical-align: top;\n",
       "    }\n",
       "\n",
       "    .dataframe thead th {\n",
       "        text-align: right;\n",
       "    }\n",
       "</style>\n",
       "<table border=\"1\" class=\"dataframe\">\n",
       "  <thead>\n",
       "    <tr style=\"text-align: right;\">\n",
       "      <th></th>\n",
       "      <th>PrimaryPropertyType</th>\n",
       "      <th>Neighborhood</th>\n",
       "      <th>YearBuilt</th>\n",
       "      <th>NumberofBuildings</th>\n",
       "      <th>NumberofFloors</th>\n",
       "      <th>PropertyGFATotal</th>\n",
       "      <th>PropertyGFAParking</th>\n",
       "      <th>PropertyGFABuilding(s)</th>\n",
       "      <th>ENERGYSTARScore</th>\n",
       "      <th>SiteEnergyUse(kBtu)</th>\n",
       "      <th>...</th>\n",
       "      <th>(West,)</th>\n",
       "      <th>(Commercial,)</th>\n",
       "      <th>(Education,)</th>\n",
       "      <th>(Family,)</th>\n",
       "      <th>(Hotel,)</th>\n",
       "      <th>(Medical,)</th>\n",
       "      <th>(Office,)</th>\n",
       "      <th>(Other,)</th>\n",
       "      <th>(Storage,)</th>\n",
       "      <th>(Worship Facility,)</th>\n",
       "    </tr>\n",
       "  </thead>\n",
       "  <tbody>\n",
       "    <tr>\n",
       "      <th>0</th>\n",
       "      <td>Hotel</td>\n",
       "      <td>Center / East</td>\n",
       "      <td>1927</td>\n",
       "      <td>1.0</td>\n",
       "      <td>12.0</td>\n",
       "      <td>88434</td>\n",
       "      <td>0</td>\n",
       "      <td>88434</td>\n",
       "      <td>65.0</td>\n",
       "      <td>6981428.0</td>\n",
       "      <td>...</td>\n",
       "      <td>0.0</td>\n",
       "      <td>0.0</td>\n",
       "      <td>0.0</td>\n",
       "      <td>0.0</td>\n",
       "      <td>1.0</td>\n",
       "      <td>0.0</td>\n",
       "      <td>0.0</td>\n",
       "      <td>0.0</td>\n",
       "      <td>0.0</td>\n",
       "      <td>0.0</td>\n",
       "    </tr>\n",
       "    <tr>\n",
       "      <th>1</th>\n",
       "      <td>Hotel</td>\n",
       "      <td>Center / East</td>\n",
       "      <td>1996</td>\n",
       "      <td>1.0</td>\n",
       "      <td>11.0</td>\n",
       "      <td>103566</td>\n",
       "      <td>15064</td>\n",
       "      <td>88502</td>\n",
       "      <td>51.0</td>\n",
       "      <td>8354235.0</td>\n",
       "      <td>...</td>\n",
       "      <td>0.0</td>\n",
       "      <td>0.0</td>\n",
       "      <td>0.0</td>\n",
       "      <td>0.0</td>\n",
       "      <td>1.0</td>\n",
       "      <td>0.0</td>\n",
       "      <td>0.0</td>\n",
       "      <td>0.0</td>\n",
       "      <td>0.0</td>\n",
       "      <td>0.0</td>\n",
       "    </tr>\n",
       "    <tr>\n",
       "      <th>2</th>\n",
       "      <td>Hotel</td>\n",
       "      <td>Center / East</td>\n",
       "      <td>1969</td>\n",
       "      <td>1.0</td>\n",
       "      <td>41.0</td>\n",
       "      <td>961990</td>\n",
       "      <td>0</td>\n",
       "      <td>961990</td>\n",
       "      <td>18.0</td>\n",
       "      <td>73130656.0</td>\n",
       "      <td>...</td>\n",
       "      <td>0.0</td>\n",
       "      <td>0.0</td>\n",
       "      <td>0.0</td>\n",
       "      <td>0.0</td>\n",
       "      <td>1.0</td>\n",
       "      <td>0.0</td>\n",
       "      <td>0.0</td>\n",
       "      <td>0.0</td>\n",
       "      <td>0.0</td>\n",
       "      <td>0.0</td>\n",
       "    </tr>\n",
       "    <tr>\n",
       "      <th>3</th>\n",
       "      <td>Hotel</td>\n",
       "      <td>Center / East</td>\n",
       "      <td>1926</td>\n",
       "      <td>1.0</td>\n",
       "      <td>10.0</td>\n",
       "      <td>61320</td>\n",
       "      <td>0</td>\n",
       "      <td>61320</td>\n",
       "      <td>1.0</td>\n",
       "      <td>28229320.0</td>\n",
       "      <td>...</td>\n",
       "      <td>0.0</td>\n",
       "      <td>0.0</td>\n",
       "      <td>0.0</td>\n",
       "      <td>0.0</td>\n",
       "      <td>1.0</td>\n",
       "      <td>0.0</td>\n",
       "      <td>0.0</td>\n",
       "      <td>0.0</td>\n",
       "      <td>0.0</td>\n",
       "      <td>0.0</td>\n",
       "    </tr>\n",
       "    <tr>\n",
       "      <th>4</th>\n",
       "      <td>Hotel</td>\n",
       "      <td>Center / East</td>\n",
       "      <td>1980</td>\n",
       "      <td>1.0</td>\n",
       "      <td>18.0</td>\n",
       "      <td>119890</td>\n",
       "      <td>12460</td>\n",
       "      <td>107430</td>\n",
       "      <td>67.0</td>\n",
       "      <td>14829099.0</td>\n",
       "      <td>...</td>\n",
       "      <td>0.0</td>\n",
       "      <td>0.0</td>\n",
       "      <td>0.0</td>\n",
       "      <td>0.0</td>\n",
       "      <td>1.0</td>\n",
       "      <td>0.0</td>\n",
       "      <td>0.0</td>\n",
       "      <td>0.0</td>\n",
       "      <td>0.0</td>\n",
       "      <td>0.0</td>\n",
       "    </tr>\n",
       "  </tbody>\n",
       "</table>\n",
       "<p>5 rows × 30 columns</p>\n",
       "</div>"
      ],
      "text/plain": [
       "  PrimaryPropertyType   Neighborhood  YearBuilt  NumberofBuildings  \\\n",
       "0               Hotel  Center / East       1927                1.0   \n",
       "1               Hotel  Center / East       1996                1.0   \n",
       "2               Hotel  Center / East       1969                1.0   \n",
       "3               Hotel  Center / East       1926                1.0   \n",
       "4               Hotel  Center / East       1980                1.0   \n",
       "\n",
       "   NumberofFloors  PropertyGFATotal  PropertyGFAParking  \\\n",
       "0            12.0             88434                   0   \n",
       "1            11.0            103566               15064   \n",
       "2            41.0            961990                   0   \n",
       "3            10.0             61320                   0   \n",
       "4            18.0            119890               12460   \n",
       "\n",
       "   PropertyGFABuilding(s)  ENERGYSTARScore  SiteEnergyUse(kBtu)  ...  (West,)  \\\n",
       "0                   88434             65.0            6981428.0  ...      0.0   \n",
       "1                   88502             51.0            8354235.0  ...      0.0   \n",
       "2                  961990             18.0           73130656.0  ...      0.0   \n",
       "3                   61320              1.0           28229320.0  ...      0.0   \n",
       "4                  107430             67.0           14829099.0  ...      0.0   \n",
       "\n",
       "   (Commercial,)  (Education,)  (Family,)  (Hotel,)  (Medical,)  (Office,)  \\\n",
       "0            0.0           0.0        0.0       1.0         0.0        0.0   \n",
       "1            0.0           0.0        0.0       1.0         0.0        0.0   \n",
       "2            0.0           0.0        0.0       1.0         0.0        0.0   \n",
       "3            0.0           0.0        0.0       1.0         0.0        0.0   \n",
       "4            0.0           0.0        0.0       1.0         0.0        0.0   \n",
       "\n",
       "   (Other,)  (Storage,)  (Worship Facility,)  \n",
       "0       0.0         0.0                  0.0  \n",
       "1       0.0         0.0                  0.0  \n",
       "2       0.0         0.0                  0.0  \n",
       "3       0.0         0.0                  0.0  \n",
       "4       0.0         0.0                  0.0  \n",
       "\n",
       "[5 rows x 30 columns]"
      ]
     },
     "execution_count": 23,
     "metadata": {},
     "output_type": "execute_result"
    }
   ],
   "source": [
    "data.head()"
   ]
  },
  {
   "cell_type": "code",
   "execution_count": 24,
   "id": "5a378234",
   "metadata": {},
   "outputs": [
    {
     "data": {
      "text/plain": [
       "Index([   'PrimaryPropertyType',           'Neighborhood',\n",
       "                    'YearBuilt',      'NumberofBuildings',\n",
       "               'NumberofFloors',       'PropertyGFATotal',\n",
       "           'PropertyGFAParking', 'PropertyGFABuilding(s)',\n",
       "              'ENERGYSTARScore',    'SiteEnergyUse(kBtu)',\n",
       "               'SteamUse(kBtu)',      'Electricity(kBtu)',\n",
       "             'NaturalGas(kBtu)',      'TotalGHGEmissions',\n",
       "        'GHGEmissionsIntensity',   'TotalGHGEmissionsLog',\n",
       "       'SiteEnergyUse(kBtu)Log',       ('Center / East',),\n",
       "                     ('North',),               ('South',),\n",
       "                      ('West',),          ('Commercial',),\n",
       "                 ('Education',),              ('Family',),\n",
       "                     ('Hotel',),             ('Medical',),\n",
       "                    ('Office',),               ('Other',),\n",
       "                   ('Storage',),    ('Worship Facility',)],\n",
       "      dtype='object')"
      ]
     },
     "execution_count": 24,
     "metadata": {},
     "output_type": "execute_result"
    }
   ],
   "source": [
    "data.columns"
   ]
  },
  {
   "cell_type": "markdown",
   "id": "1a2f3a74",
   "metadata": {},
   "source": [
    "Maintenant qu'on a transformé les variables catégorielles et normalisé les variables, on définit les variables que nous allons entrainer X et les variables que nous voulons prédire y. On commence par la consommation d'énergie (ramenée en Log) puis on fera une analyse sur le carbone avec la régression qu'on aura choisie."
   ]
  },
  {
   "cell_type": "code",
   "execution_count": 25,
   "id": "075085a3",
   "metadata": {},
   "outputs": [
    {
     "name": "stderr",
     "output_type": "stream",
     "text": [
      "C:\\Users\\nha5600\\Anaconda3\\lib\\site-packages\\numpy\\core\\_asarray.py:102: VisibleDeprecationWarning: Creating an ndarray from ragged nested sequences (which is a list-or-tuple of lists-or-tuples-or ndarrays with different lengths or shapes) is deprecated. If you meant to do this, you must specify 'dtype=object' when creating the ndarray.\n",
      "  return array(a, dtype, copy=False, order=order)\n"
     ]
    }
   ],
   "source": [
    "X=data[['YearBuilt', 'NumberofBuildings', 'NumberofFloors', 'PropertyGFATotal', 'PropertyGFAParking', 'PropertyGFABuilding(s)',\n",
    "('Center / East',),('North',),('South',),('West',),('Commercial',),('Education',),('Family',), ('Hotel',),('Medical',),\n",
    "('Office',),('Other',),('Storage',),('Worship Facility',)]]"
   ]
  },
  {
   "cell_type": "code",
   "execution_count": 26,
   "id": "15be75f9",
   "metadata": {},
   "outputs": [],
   "source": [
    "y=data['SiteEnergyUse(kBtu)Log']"
   ]
  },
  {
   "cell_type": "code",
   "execution_count": 27,
   "id": "1eaa58d5",
   "metadata": {},
   "outputs": [
    {
     "data": {
      "text/plain": [
       "count    2195.000000\n",
       "mean        6.487721\n",
       "std         0.555478\n",
       "min         4.642890\n",
       "25%         6.106444\n",
       "50%         6.415298\n",
       "75%         6.860058\n",
       "max         8.651651\n",
       "Name: SiteEnergyUse(kBtu)Log, dtype: float64"
      ]
     },
     "execution_count": 27,
     "metadata": {},
     "output_type": "execute_result"
    }
   ],
   "source": [
    "y.describe()"
   ]
  },
  {
   "cell_type": "code",
   "execution_count": 28,
   "id": "7c96142c",
   "metadata": {},
   "outputs": [
    {
     "data": {
      "text/plain": [
       "((2195, 19), (2195,))"
      ]
     },
     "execution_count": 28,
     "metadata": {},
     "output_type": "execute_result"
    }
   ],
   "source": [
    "X.shape,y.shape"
   ]
  },
  {
   "cell_type": "code",
   "execution_count": 29,
   "id": "1305ce1b",
   "metadata": {},
   "outputs": [
    {
     "data": {
      "text/plain": [
       "YearBuilt                 0\n",
       "NumberofBuildings         0\n",
       "NumberofFloors            0\n",
       "PropertyGFATotal          0\n",
       "PropertyGFAParking        0\n",
       "PropertyGFABuilding(s)    0\n",
       "(Center / East,)          0\n",
       "(North,)                  0\n",
       "(South,)                  0\n",
       "(West,)                   0\n",
       "(Commercial,)             0\n",
       "(Education,)              0\n",
       "(Family,)                 0\n",
       "(Hotel,)                  0\n",
       "(Medical,)                0\n",
       "(Office,)                 0\n",
       "(Other,)                  0\n",
       "(Storage,)                0\n",
       "(Worship Facility,)       0\n",
       "dtype: int64"
      ]
     },
     "execution_count": 29,
     "metadata": {},
     "output_type": "execute_result"
    }
   ],
   "source": [
    "X.isna().sum()"
   ]
  },
  {
   "cell_type": "code",
   "execution_count": 30,
   "id": "b3b1b1b6",
   "metadata": {},
   "outputs": [
    {
     "data": {
      "text/plain": [
       "0"
      ]
     },
     "execution_count": 30,
     "metadata": {},
     "output_type": "execute_result"
    }
   ],
   "source": [
    "y.isna().sum()"
   ]
  },
  {
   "cell_type": "markdown",
   "id": "b58d9b5a",
   "metadata": {},
   "source": [
    "# Décomposition et standardisation"
   ]
  },
  {
   "cell_type": "code",
   "execution_count": 31,
   "id": "9da4c7d3",
   "metadata": {},
   "outputs": [],
   "source": [
    "from sklearn import preprocessing\n",
    "from sklearn.preprocessing import RobustScaler"
   ]
  },
  {
   "cell_type": "markdown",
   "id": "e3b44417",
   "metadata": {},
   "source": [
    "Nous séparons les données en train/test pour les évaluer de façon pertinente. L'objectif est de détecter l'overfitting et le surapprentissage."
   ]
  },
  {
   "cell_type": "code",
   "execution_count": 32,
   "id": "0a1cbc27",
   "metadata": {},
   "outputs": [],
   "source": [
    "from sklearn.model_selection import train_test_split\n",
    "X_train,X_test,y_train,y_test=train_test_split(X,y,test_size=0.30)"
   ]
  },
  {
   "cell_type": "code",
   "execution_count": 33,
   "id": "b852d91c",
   "metadata": {},
   "outputs": [
    {
     "data": {
      "text/plain": [
       "((2195, 19), (2195,))"
      ]
     },
     "execution_count": 33,
     "metadata": {},
     "output_type": "execute_result"
    }
   ],
   "source": [
    "X.shape, y.shape"
   ]
  },
  {
   "cell_type": "code",
   "execution_count": 34,
   "id": "e5db3483",
   "metadata": {},
   "outputs": [],
   "source": [
    "std_scale=preprocessing.StandardScaler().fit(X_train)"
   ]
  },
  {
   "cell_type": "code",
   "execution_count": 35,
   "id": "cdba73dd",
   "metadata": {},
   "outputs": [],
   "source": [
    "X_scale_train=std_scale.transform(X_train)"
   ]
  },
  {
   "cell_type": "code",
   "execution_count": 36,
   "id": "3e4e971a",
   "metadata": {},
   "outputs": [],
   "source": [
    "X_scale_test=std_scale.transform(X_test)"
   ]
  },
  {
   "cell_type": "code",
   "execution_count": 37,
   "id": "843229ca",
   "metadata": {},
   "outputs": [
    {
     "data": {
      "text/plain": [
       "((1536, 19), (659, 19))"
      ]
     },
     "execution_count": 37,
     "metadata": {},
     "output_type": "execute_result"
    }
   ],
   "source": [
    "X_scale_train.shape,X_scale_test.shape"
   ]
  },
  {
   "cell_type": "code",
   "execution_count": 38,
   "id": "c652bc06",
   "metadata": {},
   "outputs": [
    {
     "data": {
      "text/plain": [
       "(1.1826553381834865e-16, 0.004635254815741611)"
      ]
     },
     "execution_count": 38,
     "metadata": {},
     "output_type": "execute_result"
    }
   ],
   "source": [
    "X_scale_train.mean(),X_scale_test.mean()"
   ]
  },
  {
   "cell_type": "code",
   "execution_count": 39,
   "id": "cf56645e",
   "metadata": {},
   "outputs": [],
   "source": [
    "X_train = X_train.replace((np.inf, -np.inf, np.nan), 0).reset_index(drop=True)\n",
    "y_train = y_train.replace((np.inf, -np.inf, np.nan), 0).reset_index(drop=True)"
   ]
  },
  {
   "cell_type": "markdown",
   "id": "ca1779f7",
   "metadata": {},
   "source": [
    "# Test 1 : Régression classique"
   ]
  },
  {
   "cell_type": "markdown",
   "id": "36a8e571",
   "metadata": {},
   "source": [
    "On importe les éléments pour effectuer notre régression linéaire classique pour avoir notre MSE et la déviation standard. Nous comparerons les éléments obtenus avec une autre régression linéaire (Ridge), ainsi qu'une régression linéaire la Random Forest."
   ]
  },
  {
   "cell_type": "code",
   "execution_count": 40,
   "id": "c38cb30b",
   "metadata": {},
   "outputs": [],
   "source": [
    "from sklearn.preprocessing import StandardScaler\n",
    "from sklearn.linear_model import LinearRegression\n",
    "from sklearn.linear_model import LogisticRegression\n",
    "from sklearn.model_selection import cross_val_score\n",
    "from sklearn.metrics import mean_absolute_error\n",
    "from sklearn.metrics import mean_absolute_percentage_error\n",
    "from sklearn.metrics import mean_squared_error\n",
    "from sklearn.metrics import mean_squared_error\n",
    "from sklearn.metrics import r2_score"
   ]
  },
  {
   "cell_type": "markdown",
   "id": "b5c2248f",
   "metadata": {},
   "source": [
    "Pour la régression linéaire, la sélection et l'évaluation de modèles se fait à l'aide du modèle de selection cross_val_score, où nous choisissons un paramètre de scoring qui est \"neg mean squared error\"."
   ]
  },
  {
   "cell_type": "code",
   "execution_count": 41,
   "id": "9e3a919a",
   "metadata": {},
   "outputs": [],
   "source": [
    "from sklearn import linear_model\n",
    "lr=linear_model.LinearRegression()\n",
    "score=cross_val_score(lr,X_scale_train,y_train,scoring='neg_mean_squared_error',cv=5)"
   ]
  },
  {
   "cell_type": "code",
   "execution_count": 42,
   "id": "fe816e3e",
   "metadata": {},
   "outputs": [
    {
     "data": {
      "text/html": [
       "<div>\n",
       "<style scoped>\n",
       "    .dataframe tbody tr th:only-of-type {\n",
       "        vertical-align: middle;\n",
       "    }\n",
       "\n",
       "    .dataframe tbody tr th {\n",
       "        vertical-align: top;\n",
       "    }\n",
       "\n",
       "    .dataframe thead th {\n",
       "        text-align: right;\n",
       "    }\n",
       "</style>\n",
       "<table border=\"1\" class=\"dataframe\">\n",
       "  <thead>\n",
       "    <tr style=\"text-align: right;\">\n",
       "      <th></th>\n",
       "      <th>YearBuilt</th>\n",
       "      <th>NumberofBuildings</th>\n",
       "      <th>NumberofFloors</th>\n",
       "      <th>PropertyGFATotal</th>\n",
       "      <th>PropertyGFAParking</th>\n",
       "      <th>PropertyGFABuilding(s)</th>\n",
       "      <th>(Center / East,)</th>\n",
       "      <th>(North,)</th>\n",
       "      <th>(South,)</th>\n",
       "      <th>(West,)</th>\n",
       "      <th>(Commercial,)</th>\n",
       "      <th>(Education,)</th>\n",
       "      <th>(Family,)</th>\n",
       "      <th>(Hotel,)</th>\n",
       "      <th>(Medical,)</th>\n",
       "      <th>(Office,)</th>\n",
       "      <th>(Other,)</th>\n",
       "      <th>(Storage,)</th>\n",
       "      <th>(Worship Facility,)</th>\n",
       "    </tr>\n",
       "  </thead>\n",
       "  <tbody>\n",
       "    <tr>\n",
       "      <th>count</th>\n",
       "      <td>2195.000000</td>\n",
       "      <td>2195.000000</td>\n",
       "      <td>2195.000000</td>\n",
       "      <td>2.195000e+03</td>\n",
       "      <td>2195.000000</td>\n",
       "      <td>2.195000e+03</td>\n",
       "      <td>2195.000000</td>\n",
       "      <td>2195.000000</td>\n",
       "      <td>2195.000000</td>\n",
       "      <td>2195.000000</td>\n",
       "      <td>2195.000000</td>\n",
       "      <td>2195.000000</td>\n",
       "      <td>2195.000000</td>\n",
       "      <td>2195.000000</td>\n",
       "      <td>2195.000000</td>\n",
       "      <td>2195.000000</td>\n",
       "      <td>2195.000000</td>\n",
       "      <td>2195.000000</td>\n",
       "      <td>2195.000000</td>\n",
       "    </tr>\n",
       "    <tr>\n",
       "      <th>mean</th>\n",
       "      <td>1963.515262</td>\n",
       "      <td>1.025968</td>\n",
       "      <td>4.824146</td>\n",
       "      <td>1.243206e+05</td>\n",
       "      <td>15388.466059</td>\n",
       "      <td>1.089322e+05</td>\n",
       "      <td>0.323462</td>\n",
       "      <td>0.172210</td>\n",
       "      <td>0.153531</td>\n",
       "      <td>0.350797</td>\n",
       "      <td>0.170387</td>\n",
       "      <td>0.130752</td>\n",
       "      <td>0.000456</td>\n",
       "      <td>0.065148</td>\n",
       "      <td>0.059681</td>\n",
       "      <td>0.368565</td>\n",
       "      <td>0.010478</td>\n",
       "      <td>0.134852</td>\n",
       "      <td>0.059681</td>\n",
       "    </tr>\n",
       "    <tr>\n",
       "      <th>std</th>\n",
       "      <td>31.789891</td>\n",
       "      <td>0.364515</td>\n",
       "      <td>7.803539</td>\n",
       "      <td>2.034083e+05</td>\n",
       "      <td>46089.248879</td>\n",
       "      <td>1.761569e+05</td>\n",
       "      <td>0.467904</td>\n",
       "      <td>0.377649</td>\n",
       "      <td>0.360580</td>\n",
       "      <td>0.477328</td>\n",
       "      <td>0.376058</td>\n",
       "      <td>0.337205</td>\n",
       "      <td>0.021344</td>\n",
       "      <td>0.246843</td>\n",
       "      <td>0.236949</td>\n",
       "      <td>0.482526</td>\n",
       "      <td>0.101849</td>\n",
       "      <td>0.341643</td>\n",
       "      <td>0.236949</td>\n",
       "    </tr>\n",
       "    <tr>\n",
       "      <th>min</th>\n",
       "      <td>1900.000000</td>\n",
       "      <td>1.000000</td>\n",
       "      <td>0.000000</td>\n",
       "      <td>1.229400e+04</td>\n",
       "      <td>-2.000000</td>\n",
       "      <td>-4.331000e+04</td>\n",
       "      <td>0.000000</td>\n",
       "      <td>0.000000</td>\n",
       "      <td>0.000000</td>\n",
       "      <td>0.000000</td>\n",
       "      <td>0.000000</td>\n",
       "      <td>0.000000</td>\n",
       "      <td>0.000000</td>\n",
       "      <td>0.000000</td>\n",
       "      <td>0.000000</td>\n",
       "      <td>0.000000</td>\n",
       "      <td>0.000000</td>\n",
       "      <td>0.000000</td>\n",
       "      <td>0.000000</td>\n",
       "    </tr>\n",
       "    <tr>\n",
       "      <th>25%</th>\n",
       "      <td>1938.000000</td>\n",
       "      <td>1.000000</td>\n",
       "      <td>1.000000</td>\n",
       "      <td>3.230300e+04</td>\n",
       "      <td>0.000000</td>\n",
       "      <td>3.072650e+04</td>\n",
       "      <td>0.000000</td>\n",
       "      <td>0.000000</td>\n",
       "      <td>0.000000</td>\n",
       "      <td>0.000000</td>\n",
       "      <td>0.000000</td>\n",
       "      <td>0.000000</td>\n",
       "      <td>0.000000</td>\n",
       "      <td>0.000000</td>\n",
       "      <td>0.000000</td>\n",
       "      <td>0.000000</td>\n",
       "      <td>0.000000</td>\n",
       "      <td>0.000000</td>\n",
       "      <td>0.000000</td>\n",
       "    </tr>\n",
       "    <tr>\n",
       "      <th>50%</th>\n",
       "      <td>1968.000000</td>\n",
       "      <td>1.000000</td>\n",
       "      <td>3.000000</td>\n",
       "      <td>5.421100e+04</td>\n",
       "      <td>0.000000</td>\n",
       "      <td>5.137400e+04</td>\n",
       "      <td>0.000000</td>\n",
       "      <td>0.000000</td>\n",
       "      <td>0.000000</td>\n",
       "      <td>0.000000</td>\n",
       "      <td>0.000000</td>\n",
       "      <td>0.000000</td>\n",
       "      <td>0.000000</td>\n",
       "      <td>0.000000</td>\n",
       "      <td>0.000000</td>\n",
       "      <td>0.000000</td>\n",
       "      <td>0.000000</td>\n",
       "      <td>0.000000</td>\n",
       "      <td>0.000000</td>\n",
       "    </tr>\n",
       "    <tr>\n",
       "      <th>75%</th>\n",
       "      <td>1989.000000</td>\n",
       "      <td>1.000000</td>\n",
       "      <td>5.000000</td>\n",
       "      <td>1.224000e+05</td>\n",
       "      <td>0.000000</td>\n",
       "      <td>1.051000e+05</td>\n",
       "      <td>1.000000</td>\n",
       "      <td>0.000000</td>\n",
       "      <td>0.000000</td>\n",
       "      <td>1.000000</td>\n",
       "      <td>0.000000</td>\n",
       "      <td>0.000000</td>\n",
       "      <td>0.000000</td>\n",
       "      <td>0.000000</td>\n",
       "      <td>0.000000</td>\n",
       "      <td>1.000000</td>\n",
       "      <td>0.000000</td>\n",
       "      <td>0.000000</td>\n",
       "      <td>0.000000</td>\n",
       "    </tr>\n",
       "    <tr>\n",
       "      <th>max</th>\n",
       "      <td>2015.000000</td>\n",
       "      <td>9.000000</td>\n",
       "      <td>99.000000</td>\n",
       "      <td>1.952220e+06</td>\n",
       "      <td>512608.000000</td>\n",
       "      <td>1.765970e+06</td>\n",
       "      <td>1.000000</td>\n",
       "      <td>1.000000</td>\n",
       "      <td>1.000000</td>\n",
       "      <td>1.000000</td>\n",
       "      <td>1.000000</td>\n",
       "      <td>1.000000</td>\n",
       "      <td>1.000000</td>\n",
       "      <td>1.000000</td>\n",
       "      <td>1.000000</td>\n",
       "      <td>1.000000</td>\n",
       "      <td>1.000000</td>\n",
       "      <td>1.000000</td>\n",
       "      <td>1.000000</td>\n",
       "    </tr>\n",
       "  </tbody>\n",
       "</table>\n",
       "</div>"
      ],
      "text/plain": [
       "         YearBuilt  NumberofBuildings  NumberofFloors  PropertyGFATotal  \\\n",
       "count  2195.000000        2195.000000     2195.000000      2.195000e+03   \n",
       "mean   1963.515262           1.025968        4.824146      1.243206e+05   \n",
       "std      31.789891           0.364515        7.803539      2.034083e+05   \n",
       "min    1900.000000           1.000000        0.000000      1.229400e+04   \n",
       "25%    1938.000000           1.000000        1.000000      3.230300e+04   \n",
       "50%    1968.000000           1.000000        3.000000      5.421100e+04   \n",
       "75%    1989.000000           1.000000        5.000000      1.224000e+05   \n",
       "max    2015.000000           9.000000       99.000000      1.952220e+06   \n",
       "\n",
       "       PropertyGFAParking  PropertyGFABuilding(s)  (Center / East,)  \\\n",
       "count         2195.000000            2.195000e+03       2195.000000   \n",
       "mean         15388.466059            1.089322e+05          0.323462   \n",
       "std          46089.248879            1.761569e+05          0.467904   \n",
       "min             -2.000000           -4.331000e+04          0.000000   \n",
       "25%              0.000000            3.072650e+04          0.000000   \n",
       "50%              0.000000            5.137400e+04          0.000000   \n",
       "75%              0.000000            1.051000e+05          1.000000   \n",
       "max         512608.000000            1.765970e+06          1.000000   \n",
       "\n",
       "          (North,)     (South,)      (West,)  (Commercial,)  (Education,)  \\\n",
       "count  2195.000000  2195.000000  2195.000000    2195.000000   2195.000000   \n",
       "mean      0.172210     0.153531     0.350797       0.170387      0.130752   \n",
       "std       0.377649     0.360580     0.477328       0.376058      0.337205   \n",
       "min       0.000000     0.000000     0.000000       0.000000      0.000000   \n",
       "25%       0.000000     0.000000     0.000000       0.000000      0.000000   \n",
       "50%       0.000000     0.000000     0.000000       0.000000      0.000000   \n",
       "75%       0.000000     0.000000     1.000000       0.000000      0.000000   \n",
       "max       1.000000     1.000000     1.000000       1.000000      1.000000   \n",
       "\n",
       "         (Family,)     (Hotel,)   (Medical,)    (Office,)     (Other,)  \\\n",
       "count  2195.000000  2195.000000  2195.000000  2195.000000  2195.000000   \n",
       "mean      0.000456     0.065148     0.059681     0.368565     0.010478   \n",
       "std       0.021344     0.246843     0.236949     0.482526     0.101849   \n",
       "min       0.000000     0.000000     0.000000     0.000000     0.000000   \n",
       "25%       0.000000     0.000000     0.000000     0.000000     0.000000   \n",
       "50%       0.000000     0.000000     0.000000     0.000000     0.000000   \n",
       "75%       0.000000     0.000000     0.000000     1.000000     0.000000   \n",
       "max       1.000000     1.000000     1.000000     1.000000     1.000000   \n",
       "\n",
       "        (Storage,)  (Worship Facility,)  \n",
       "count  2195.000000          2195.000000  \n",
       "mean      0.134852             0.059681  \n",
       "std       0.341643             0.236949  \n",
       "min       0.000000             0.000000  \n",
       "25%       0.000000             0.000000  \n",
       "50%       0.000000             0.000000  \n",
       "75%       0.000000             0.000000  \n",
       "max       1.000000             1.000000  "
      ]
     },
     "execution_count": 42,
     "metadata": {},
     "output_type": "execute_result"
    }
   ],
   "source": [
    "X.describe()"
   ]
  },
  {
   "cell_type": "markdown",
   "id": "3bfd0d25",
   "metadata": {},
   "source": [
    "D'autres indicateurs de performance sont explorés pour comprendre les résultats : On cherche à mesurer le temps déxécution"
   ]
  },
  {
   "cell_type": "code",
   "execution_count": 43,
   "id": "922df454",
   "metadata": {},
   "outputs": [
    {
     "data": {
      "text/plain": [
       "LinearRegression()"
      ]
     },
     "execution_count": 43,
     "metadata": {},
     "output_type": "execute_result"
    }
   ],
   "source": [
    "import timeit \n",
    "from sklearn import linear_model\n",
    "start_time=timeit.default_timer()\n",
    "lr=linear_model.LinearRegression()\n",
    "lr.fit(X_scale_train,y_train)"
   ]
  },
  {
   "cell_type": "markdown",
   "id": "3cfd24a2",
   "metadata": {},
   "source": [
    "La MSE permet de regarder le modele qui fait le plus d'erreur : "
   ]
  },
  {
   "cell_type": "code",
   "execution_count": 44,
   "id": "79faaa0f",
   "metadata": {},
   "outputs": [
    {
     "name": "stdout",
     "output_type": "stream",
     "text": [
      "Notre MSE est égal à 0.14\n"
     ]
    }
   ],
   "source": [
    "y_predi_lr = lr.predict(X_scale_test)\n",
    "MSELinear = mean_squared_error(y_test,y_predi_lr)\n",
    "print('Notre MSE est égal à %0.2f' %MSELinear)"
   ]
  },
  {
   "cell_type": "markdown",
   "id": "dc7d1448",
   "metadata": {},
   "source": [
    "La MAPE permet de regarder le modele :"
   ]
  },
  {
   "cell_type": "code",
   "execution_count": 45,
   "id": "1344c7bc",
   "metadata": {},
   "outputs": [
    {
     "name": "stdout",
     "output_type": "stream",
     "text": [
      "MAPE : 4.6010808868551205\n"
     ]
    }
   ],
   "source": [
    "#mae = mean_absolute_error(y_test, y_predi)\n",
    "#print('MAE: %.3f' % mae)\n",
    "mapeLinear= mean_absolute_percentage_error(y_test, y_predi_lr) * 100\n",
    "print('MAPE :' ,mapeLinear)"
   ]
  },
  {
   "cell_type": "markdown",
   "id": "26916962",
   "metadata": {},
   "source": [
    "Nous effectuons une prédiction sur y avec la régression linéiare :"
   ]
  },
  {
   "cell_type": "code",
   "execution_count": 46,
   "id": "f40c5c28",
   "metadata": {},
   "outputs": [],
   "source": [
    "y_predi_lr = lr.predict(X_scale_test) \n",
    "erreur=y_predi_lr-y_test "
   ]
  },
  {
   "cell_type": "markdown",
   "id": "c9ae64bf",
   "metadata": {},
   "source": [
    "La RMSE permet de calculer les différences entre les valeurs prédites par notre modèle et les valeurs observées"
   ]
  },
  {
   "cell_type": "code",
   "execution_count": 47,
   "id": "b618c4f6",
   "metadata": {},
   "outputs": [
    {
     "name": "stdout",
     "output_type": "stream",
     "text": [
      "RMSE : 0.3744340821518053\n"
     ]
    }
   ],
   "source": [
    "rmseLinear = (np.sqrt(mean_squared_error(y_test, y_predi_lr)))\n",
    "print('RMSE :' , rmseLinear)"
   ]
  },
  {
   "cell_type": "code",
   "execution_count": 48,
   "id": "90203ba8",
   "metadata": {},
   "outputs": [
    {
     "name": "stdout",
     "output_type": "stream",
     "text": [
      "RMSE : 0.3587812891162007\n"
     ]
    }
   ],
   "source": [
    "rmseLinear_Train = (np.sqrt(mean_squared_error(y_train, lr.predict(X_scale_train))))\n",
    "print('RMSE :' , rmseLinear_Train)"
   ]
  },
  {
   "cell_type": "markdown",
   "id": "56adad8e",
   "metadata": {},
   "source": [
    "Récup du modèle et booster avec Gridsearch"
   ]
  },
  {
   "cell_type": "code",
   "execution_count": 49,
   "id": "f11f776e",
   "metadata": {},
   "outputs": [
    {
     "name": "stdout",
     "output_type": "stream",
     "text": [
      "temps de calcul 23.221285800000032\n"
     ]
    }
   ],
   "source": [
    "elapsedLinear=timeit.default_timer()-start_time\n",
    "# Evaluation du training set\n",
    "print('temps de calcul',elapsedLinear)"
   ]
  },
  {
   "cell_type": "code",
   "execution_count": 50,
   "id": "2d4d44b5",
   "metadata": {},
   "outputs": [
    {
     "name": "stdout",
     "output_type": "stream",
     "text": [
      "Train Score : 0.5781839381938246\n",
      "Test Score : 0.5559876654575899\n"
     ]
    }
   ],
   "source": [
    "print('Train Score :', lr.score(X_scale_train,y_train))\n",
    "print('Test Score :', lr.score(X_scale_test,y_test))"
   ]
  },
  {
   "cell_type": "code",
   "execution_count": 51,
   "id": "0c90745d",
   "metadata": {},
   "outputs": [
    {
     "name": "stdout",
     "output_type": "stream",
     "text": [
      "R2 Linear : 0.5559876654575899\n"
     ]
    }
   ],
   "source": [
    "r2linear = r2_score(y_test, y_predi_lr)\n",
    "print ('R2 Linear :', r2linear)"
   ]
  },
  {
   "cell_type": "code",
   "execution_count": 52,
   "id": "714f0b67",
   "metadata": {},
   "outputs": [
    {
     "data": {
      "image/png": "[encoded data removed]",
      "text/plain": [
       "<Figure size 432x288 with 1 Axes>"
      ]
     },
     "metadata": {
      "needs_background": "light"
     },
     "output_type": "display_data"
    }
   ],
   "source": [
    "plt.figure()\n",
    "plt.scatter(y_predi_lr,erreur)\n",
    "plt.xlabel('Prévision')\n",
    "plt.ylabel('Erreur')\n",
    "plt.title('Graphe prévision en fonction de lerreur')\n",
    "plt.show()"
   ]
  },
  {
   "cell_type": "code",
   "execution_count": 53,
   "id": "f020f037",
   "metadata": {},
   "outputs": [
    {
     "data": {
      "image/png": "[encoded data removed]",
      "text/plain": [
       "<Figure size 432x288 with 1 Axes>"
      ]
     },
     "metadata": {
      "needs_background": "light"
     },
     "output_type": "display_data"
    }
   ],
   "source": [
    "plt.figure()\n",
    "plt.scatter(y_predi_lr,y_test,c='black')\n",
    "plt.xlabel('Valeurs prédites LOG')\n",
    "plt.ylabel('Valeurs réelles LOG')\n",
    "plt.title('Valeurs prédites Energie en fonction des valeurs réelles en Régression Linéaire')\n",
    "plt.show()"
   ]
  },
  {
   "cell_type": "markdown",
   "id": "c3f99612",
   "metadata": {},
   "source": [
    "# Régression Ridge"
   ]
  },
  {
   "cell_type": "markdown",
   "id": "ab7ba394",
   "metadata": {},
   "source": [
    "Testons maintenant la régression Ridge pour évaluer nos 3 paramètres sélectionnés :"
   ]
  },
  {
   "cell_type": "code",
   "execution_count": 54,
   "id": "3c99e20d",
   "metadata": {},
   "outputs": [],
   "source": [
    "from sklearn.preprocessing import StandardScaler\n",
    "from sklearn.preprocessing import RobustScaler\n",
    "from sklearn.linear_model import Ridge"
   ]
  },
  {
   "cell_type": "code",
   "execution_count": 55,
   "id": "3c9f3525",
   "metadata": {},
   "outputs": [
    {
     "name": "stdout",
     "output_type": "stream",
     "text": [
      "alpha: 35.111917\n"
     ]
    }
   ],
   "source": [
    "from sklearn.linear_model import RidgeCV\n",
    "model_ridge = RidgeCV(alphas=np.logspace(-1,2,100),cv=5, scoring='neg_mean_squared_error')\n",
    "model_ridge.fit(X_scale_train, y_train)\n",
    "print('alpha: %f' % model_ridge.alpha_)"
   ]
  },
  {
   "cell_type": "code",
   "execution_count": 56,
   "id": "692512d2",
   "metadata": {},
   "outputs": [
    {
     "data": {
      "text/plain": [
       "Ridge()"
      ]
     },
     "execution_count": 56,
     "metadata": {},
     "output_type": "execute_result"
    }
   ],
   "source": [
    "ridge=linear_model.Ridge()\n",
    "ridge.fit(X_scale_train,y_train)"
   ]
  },
  {
   "cell_type": "code",
   "execution_count": 57,
   "id": "6261f7e7",
   "metadata": {},
   "outputs": [
    {
     "name": "stdout",
     "output_type": "stream",
     "text": [
      "[0.14488399 0.13325213 0.1086494  0.13565563 0.13823128]\n"
     ]
    }
   ],
   "source": [
    "score=cross_val_score(ridge,X_scale_train,y_train,scoring='neg_mean_squared_error',cv=5)\n",
    "print(abs(score))"
   ]
  },
  {
   "cell_type": "code",
   "execution_count": 58,
   "id": "cbdd2aa7",
   "metadata": {},
   "outputs": [
    {
     "data": {
      "text/plain": [
       "-0.132068447156668"
      ]
     },
     "execution_count": 58,
     "metadata": {},
     "output_type": "execute_result"
    }
   ],
   "source": [
    "model_ridge.best_score_"
   ]
  },
  {
   "cell_type": "markdown",
   "id": "77e44dfc",
   "metadata": {},
   "source": [
    "Cherchons l'écart type moyen :"
   ]
  },
  {
   "cell_type": "code",
   "execution_count": 59,
   "id": "d3d81732",
   "metadata": {},
   "outputs": [
    {
     "name": "stdout",
     "output_type": "stream",
     "text": [
      "0.132 MSE with a standard deviation of 0.012\n"
     ]
    }
   ],
   "source": [
    "print(\"%0.3f MSE with a standard deviation of %0.3f\" % (abs(score).mean(), abs(score).std()))"
   ]
  },
  {
   "cell_type": "code",
   "execution_count": 60,
   "id": "f7cc4972",
   "metadata": {},
   "outputs": [
    {
     "name": "stdout",
     "output_type": "stream",
     "text": [
      "Notre MSE avec la régression Ridge est égale à 0.14020986079985837\n"
     ]
    }
   ],
   "source": [
    "y_predi_ridge = ridge.predict(X_scale_test)\n",
    "MSERidge=mean_squared_error(y_test,ridge.predict(X_scale_test))\n",
    "print('Notre MSE avec la régression Ridge est égale à', MSERidge)"
   ]
  },
  {
   "cell_type": "code",
   "execution_count": 61,
   "id": "04500589",
   "metadata": {},
   "outputs": [
    {
     "name": "stdout",
     "output_type": "stream",
     "text": [
      "Train Score : 0.5781838322844424\n",
      "Test Score : 0.5559592294555715\n"
     ]
    }
   ],
   "source": [
    "print('Train Score :', ridge.score(X_scale_train,y_train))\n",
    "print('Test Score :', ridge.score(X_scale_test,y_test))"
   ]
  },
  {
   "cell_type": "markdown",
   "id": "474e55cb",
   "metadata": {},
   "source": [
    "Calculons maintenant la mapeRidge :"
   ]
  },
  {
   "cell_type": "code",
   "execution_count": 62,
   "id": "db708329",
   "metadata": {},
   "outputs": [
    {
     "name": "stdout",
     "output_type": "stream",
     "text": [
      "MAPE : 4.601285842838541\n"
     ]
    }
   ],
   "source": [
    "mapeRidge= mean_absolute_percentage_error(y_test,y_predi_ridge) * 100\n",
    "print('MAPE :' ,mapeRidge)"
   ]
  },
  {
   "cell_type": "markdown",
   "id": "4cf70868",
   "metadata": {},
   "source": [
    "Interpréter le MAPE"
   ]
  },
  {
   "cell_type": "code",
   "execution_count": 63,
   "id": "18800064",
   "metadata": {},
   "outputs": [
    {
     "name": "stdout",
     "output_type": "stream",
     "text": [
      "RMSE : 0.3744460719514338\n"
     ]
    }
   ],
   "source": [
    "rmseRidge = (np.sqrt(mean_squared_error(y_test, y_predi_ridge)))\n",
    "print ('RMSE :', rmseRidge)"
   ]
  },
  {
   "cell_type": "code",
   "execution_count": 64,
   "id": "281b535a",
   "metadata": {},
   "outputs": [
    {
     "name": "stdout",
     "output_type": "stream",
     "text": [
      "R2 Ridge : 0.5559592294555715\n"
     ]
    }
   ],
   "source": [
    "r2ridge = r2_score(y_test, y_predi_ridge)\n",
    "print ('R2 Ridge :', r2ridge)"
   ]
  },
  {
   "cell_type": "code",
   "execution_count": 65,
   "id": "48e9b5a8",
   "metadata": {},
   "outputs": [
    {
     "data": {
      "text/plain": [
       "97.8832754"
      ]
     },
     "execution_count": 65,
     "metadata": {},
     "output_type": "execute_result"
    }
   ],
   "source": [
    "elapsedRidge=timeit.default_timer()-start_time\n",
    "elapsedRidge"
   ]
  },
  {
   "cell_type": "code",
   "execution_count": 66,
   "id": "d2ca6042",
   "metadata": {},
   "outputs": [
    {
     "data": {
      "image/png": "[encoded data removed]",
      "text/plain": [
       "<Figure size 432x288 with 1 Axes>"
      ]
     },
     "metadata": {
      "needs_background": "light"
     },
     "output_type": "display_data"
    }
   ],
   "source": [
    "plt.figure()\n",
    "plt.scatter(y_predi_ridge,erreur)\n",
    "plt.xlabel('Prévision')\n",
    "plt.ylabel('Erreur')\n",
    "plt.title('Graphe prévision en fonction de lerreur')\n",
    "plt.show()"
   ]
  },
  {
   "cell_type": "code",
   "execution_count": 67,
   "id": "688b7b4d",
   "metadata": {},
   "outputs": [
    {
     "data": {
      "image/png": "[encoded data removed]",
      "text/plain": [
       "<Figure size 432x288 with 1 Axes>"
      ]
     },
     "metadata": {
      "needs_background": "light"
     },
     "output_type": "display_data"
    }
   ],
   "source": [
    "plt.figure()\n",
    "plt.scatter(y_predi_ridge,y_test,c='red')\n",
    "plt.xlabel('Valeurs prédites LOG')\n",
    "plt.ylabel('Valeurs réelles LOG')\n",
    "plt.title('Valeurs prédites Energie en fonction des valeurs réelles en Régression Ridge')\n",
    "plt.show()"
   ]
  },
  {
   "cell_type": "markdown",
   "id": "8d96b5c5",
   "metadata": {},
   "source": [
    "# Non linéaire : Random Forest"
   ]
  },
  {
   "cell_type": "markdown",
   "id": "29ff096c",
   "metadata": {},
   "source": [
    "Nous nous intéressons maintenant à un modèle non linéaire : Le Random Forest"
   ]
  },
  {
   "cell_type": "code",
   "execution_count": 68,
   "id": "e0a16bb9",
   "metadata": {},
   "outputs": [],
   "source": [
    "from sklearn.ensemble import RandomForestRegressor"
   ]
  },
  {
   "cell_type": "code",
   "execution_count": 69,
   "id": "52cf87f1",
   "metadata": {},
   "outputs": [
    {
     "data": {
      "text/plain": [
       "Text(0, 0.5, 'Score MSE')"
      ]
     },
     "execution_count": 69,
     "metadata": {},
     "output_type": "execute_result"
    },
    {
     "data": {
      "image/png": "[encoded data removed]",
      "text/plain": [
       "<Figure size 432x288 with 1 Axes>"
      ]
     },
     "metadata": {
      "needs_background": "light"
     },
     "output_type": "display_data"
    }
   ],
   "source": [
    "val_score=[]\n",
    "nbrarbres=[50,100,150,200]\n",
    "for k in nbrarbres:\n",
    "    randomForest=RandomForestRegressor(random_state=50,bootstrap=True,n_estimators=k)\n",
    "    score=cross_val_score(randomForest,X_scale_train,y_train,scoring='neg_mean_squared_error',cv=5).mean()\n",
    "    score=abs(score)\n",
    "    val_score.append(score)\n",
    "plt.figure()\n",
    "plt.plot(val_score,label='Validation')\n",
    "plt.axhline(y=min(val_score), color='r',label='MSE faible')\n",
    "plt.title('Choix du parametre avec la cross validation')\n",
    "plt.legend()\n",
    "plt.xlabel('Valeur du Nbre Arbre')\n",
    "plt.ylabel('Score MSE')"
   ]
  },
  {
   "cell_type": "markdown",
   "id": "056d3023",
   "metadata": {},
   "source": [
    "On effectue un controle aleatoire present dans l'algorithme du modele.\n",
    "Nous faisons une recherche exhaustive sur les valeurs des paramètres spécifiées pour notre estimateur grâce à la fonction Gridsearch.\n",
    "Le nombre d'estimateurs est le nombre darbres. Plus il y a des arbres, plus le modele sera precis.\n",
    "On utilise des arbres peu profonds et peu grands en vue de gagner en performance. L'idée est d'éviter l'overfitting (pas trop profond) et le surapprentissage (pas trop grand). Les variables sélectionnées sont diverses et indépendantes."
   ]
  },
  {
   "cell_type": "code",
   "execution_count": 70,
   "id": "6d5a2d40",
   "metadata": {},
   "outputs": [],
   "source": [
    "from sklearn.model_selection import GridSearchCV\n",
    "modelrf=RandomForestRegressor(bootstrap=True,random_state=50)\n",
    "params = {'n_estimators':[50,100,150,200]}\n",
    "grid=GridSearchCV(modelrf,param_grid=params,cv=5,return_train_score=True)"
   ]
  },
  {
   "cell_type": "code",
   "execution_count": 71,
   "id": "b311a25f",
   "metadata": {},
   "outputs": [],
   "source": [
    "start_time=timeit.default_timer()"
   ]
  },
  {
   "cell_type": "code",
   "execution_count": 72,
   "id": "1600bb73",
   "metadata": {},
   "outputs": [
    {
     "data": {
      "text/plain": [
       "GridSearchCV(cv=5, estimator=RandomForestRegressor(random_state=50),\n",
       "             param_grid={'n_estimators': [50, 100, 150, 200]},\n",
       "             return_train_score=True)"
      ]
     },
     "execution_count": 72,
     "metadata": {},
     "output_type": "execute_result"
    }
   ],
   "source": [
    "grid.fit(X_scale_train,y_train)"
   ]
  },
  {
   "cell_type": "code",
   "execution_count": 73,
   "id": "efa029d8",
   "metadata": {},
   "outputs": [
    {
     "data": {
      "text/plain": [
       "{'n_estimators': 100}"
      ]
     },
     "execution_count": 73,
     "metadata": {},
     "output_type": "execute_result"
    }
   ],
   "source": [
    "grid.best_params_"
   ]
  },
  {
   "cell_type": "code",
   "execution_count": 74,
   "id": "70c17c9d",
   "metadata": {},
   "outputs": [
    {
     "data": {
      "text/plain": [
       "0.8201786849024719"
      ]
     },
     "execution_count": 74,
     "metadata": {},
     "output_type": "execute_result"
    }
   ],
   "source": [
    "grid.best_score_"
   ]
  },
  {
   "cell_type": "markdown",
   "id": "ab15d675",
   "metadata": {},
   "source": [
    "Nous calculons comme sur nos régressions précédentes :"
   ]
  },
  {
   "cell_type": "code",
   "execution_count": 75,
   "id": "f4e568cb",
   "metadata": {},
   "outputs": [
    {
     "name": "stdout",
     "output_type": "stream",
     "text": [
      "Notre MSE est égal à 0.06\n"
     ]
    }
   ],
   "source": [
    "model_rf=grid.best_estimator_\n",
    "y_predi_random=model_rf.predict(X_scale_test)\n",
    "MSERandom=mean_squared_error(y_test,y_predi_random)\n",
    "print('Notre MSE est égal à %0.2f' %MSERandom)"
   ]
  },
  {
   "cell_type": "code",
   "execution_count": 76,
   "id": "15278505",
   "metadata": {},
   "outputs": [
    {
     "name": "stdout",
     "output_type": "stream",
     "text": [
      "MAPE : 2.446750698414428\n"
     ]
    }
   ],
   "source": [
    "mapeRandom= mean_absolute_percentage_error(y_test,y_predi_random) * 100\n",
    "print('MAPE :' ,mapeRandom)"
   ]
  },
  {
   "cell_type": "markdown",
   "id": "4a74908c",
   "metadata": {},
   "source": [
    "Evaluation du training set :"
   ]
  },
  {
   "cell_type": "code",
   "execution_count": 77,
   "id": "bb29b9bc",
   "metadata": {},
   "outputs": [
    {
     "name": "stdout",
     "output_type": "stream",
     "text": [
      "temps de calcul 35.37127800000002\n"
     ]
    }
   ],
   "source": [
    "elapsedRandom=timeit.default_timer()-start_time\n",
    "print('temps de calcul',elapsedRandom)"
   ]
  },
  {
   "cell_type": "code",
   "execution_count": 78,
   "id": "a5ea49b1",
   "metadata": {},
   "outputs": [
    {
     "name": "stdout",
     "output_type": "stream",
     "text": [
      "RMSE 0.23699087063033888\n",
      "Train Score : 0.9754376064958472\n",
      "Test Score : 0.822128027027502\n"
     ]
    }
   ],
   "source": [
    "rmseRandom = (np.sqrt(mean_squared_error(y_test, y_predi_random)))\n",
    "print('RMSE {}'.format(rmseRandom))\n",
    "print('Train Score :', model_rf.score(X_scale_train,y_train))\n",
    "print('Test Score :', model_rf.score(X_scale_test,y_test))"
   ]
  },
  {
   "cell_type": "code",
   "execution_count": 79,
   "id": "bb9061b4",
   "metadata": {},
   "outputs": [
    {
     "name": "stdout",
     "output_type": "stream",
     "text": [
      "R2 0.822128027027502\n"
     ]
    }
   ],
   "source": [
    "rmseRandom = (np.sqrt(mean_squared_error(y_test, y_predi_random)))\n",
    "r2Random = r2_score(y_test, y_predi_random)\n",
    "print('R2 {}'.format(r2Random))"
   ]
  },
  {
   "cell_type": "code",
   "execution_count": 80,
   "id": "79f0ff37",
   "metadata": {},
   "outputs": [
    {
     "data": {
      "image/png": "[encoded data removed]",
      "text/plain": [
       "<Figure size 432x288 with 1 Axes>"
      ]
     },
     "metadata": {
      "needs_background": "light"
     },
     "output_type": "display_data"
    }
   ],
   "source": [
    "plt.figure()\n",
    "plt.scatter(y_predi_random,y_test,c='green')\n",
    "plt.xlabel('Valeurs prédites LOG')\n",
    "plt.ylabel('Valeurs réelles LOG')\n",
    "plt.title('Valeurs prédites Energie en fonction des valeurs réelles en Random Forest')\n",
    "plt.show()"
   ]
  },
  {
   "cell_type": "markdown",
   "id": "37c9592d",
   "metadata": {},
   "source": [
    "L'objectif est de comparer nos 3 régressions. Réalisons un tableau avec nos métriques pour pouvoir analyser quelle régression est celle à privilégier pour notre modèle."
   ]
  },
  {
   "cell_type": "code",
   "execution_count": 81,
   "id": "8916448a",
   "metadata": {},
   "outputs": [],
   "source": [
    "comparaison = pd.DataFrame({'Modèle': ['RegréssionClassique', 'Ridge','Random Forest'],'MSE':[MSELinear,MSERidge,MSERandom],'MAPE (%)':[mapeLinear,mapeRidge,mapeRandom],'RMSE':[rmseLinear,rmseRidge,rmseRandom], 'R2' : [r2linear,r2ridge,r2Random], 'Tps éxécution (s)':[elapsedLinear,elapsedRidge,elapsedRandom]})"
   ]
  },
  {
   "cell_type": "code",
   "execution_count": 82,
   "id": "7bffad1e",
   "metadata": {},
   "outputs": [
    {
     "data": {
      "text/html": [
       "<div>\n",
       "<style scoped>\n",
       "    .dataframe tbody tr th:only-of-type {\n",
       "        vertical-align: middle;\n",
       "    }\n",
       "\n",
       "    .dataframe tbody tr th {\n",
       "        vertical-align: top;\n",
       "    }\n",
       "\n",
       "    .dataframe thead th {\n",
       "        text-align: right;\n",
       "    }\n",
       "</style>\n",
       "<table border=\"1\" class=\"dataframe\">\n",
       "  <thead>\n",
       "    <tr style=\"text-align: right;\">\n",
       "      <th></th>\n",
       "      <th>Modèle</th>\n",
       "      <th>MSE</th>\n",
       "      <th>MAPE (%)</th>\n",
       "      <th>RMSE</th>\n",
       "      <th>R2</th>\n",
       "      <th>Tps éxécution (s)</th>\n",
       "    </tr>\n",
       "  </thead>\n",
       "  <tbody>\n",
       "    <tr>\n",
       "      <th>0</th>\n",
       "      <td>RegréssionClassique</td>\n",
       "      <td>0.140201</td>\n",
       "      <td>4.601081</td>\n",
       "      <td>0.374434</td>\n",
       "      <td>0.555988</td>\n",
       "      <td>23.221286</td>\n",
       "    </tr>\n",
       "    <tr>\n",
       "      <th>1</th>\n",
       "      <td>Ridge</td>\n",
       "      <td>0.140210</td>\n",
       "      <td>4.601286</td>\n",
       "      <td>0.374446</td>\n",
       "      <td>0.555959</td>\n",
       "      <td>97.883275</td>\n",
       "    </tr>\n",
       "    <tr>\n",
       "      <th>2</th>\n",
       "      <td>Random Forest</td>\n",
       "      <td>0.056165</td>\n",
       "      <td>2.446751</td>\n",
       "      <td>0.236991</td>\n",
       "      <td>0.822128</td>\n",
       "      <td>35.371278</td>\n",
       "    </tr>\n",
       "  </tbody>\n",
       "</table>\n",
       "</div>"
      ],
      "text/plain": [
       "                Modèle       MSE  MAPE (%)      RMSE        R2  \\\n",
       "0  RegréssionClassique  0.140201  4.601081  0.374434  0.555988   \n",
       "1                Ridge  0.140210  4.601286  0.374446  0.555959   \n",
       "2        Random Forest  0.056165  2.446751  0.236991  0.822128   \n",
       "\n",
       "   Tps éxécution (s)  \n",
       "0          23.221286  \n",
       "1          97.883275  \n",
       "2          35.371278  "
      ]
     },
     "execution_count": 82,
     "metadata": {},
     "output_type": "execute_result"
    }
   ],
   "source": [
    "comparaison"
   ]
  },
  {
   "cell_type": "markdown",
   "id": "a58cd7f4",
   "metadata": {},
   "source": [
    "Le tableau comparatif étant tracé, nous pouvons aller plus loin en effectuant une représentation graphique sur nos métriques."
   ]
  },
  {
   "cell_type": "code",
   "execution_count": 83,
   "id": "63938c4c",
   "metadata": {},
   "outputs": [],
   "source": [
    "performances_modeles = pd.melt(comparaison.reset_index(), id_vars = ['Modèle'], value_name = 'score', value_vars=['MSE','MAPE (%)', 'RMSE', 'R2'])"
   ]
  },
  {
   "cell_type": "code",
   "execution_count": 84,
   "id": "d695ebce",
   "metadata": {},
   "outputs": [
    {
     "data": {
      "text/html": [
       "<div>\n",
       "<style scoped>\n",
       "    .dataframe tbody tr th:only-of-type {\n",
       "        vertical-align: middle;\n",
       "    }\n",
       "\n",
       "    .dataframe tbody tr th {\n",
       "        vertical-align: top;\n",
       "    }\n",
       "\n",
       "    .dataframe thead th {\n",
       "        text-align: right;\n",
       "    }\n",
       "</style>\n",
       "<table border=\"1\" class=\"dataframe\">\n",
       "  <thead>\n",
       "    <tr style=\"text-align: right;\">\n",
       "      <th></th>\n",
       "      <th>Modèle</th>\n",
       "      <th>variable</th>\n",
       "      <th>score</th>\n",
       "    </tr>\n",
       "  </thead>\n",
       "  <tbody>\n",
       "    <tr>\n",
       "      <th>0</th>\n",
       "      <td>RegréssionClassique</td>\n",
       "      <td>MSE</td>\n",
       "      <td>0.140201</td>\n",
       "    </tr>\n",
       "    <tr>\n",
       "      <th>1</th>\n",
       "      <td>Ridge</td>\n",
       "      <td>MSE</td>\n",
       "      <td>0.140210</td>\n",
       "    </tr>\n",
       "    <tr>\n",
       "      <th>2</th>\n",
       "      <td>Random Forest</td>\n",
       "      <td>MSE</td>\n",
       "      <td>0.056165</td>\n",
       "    </tr>\n",
       "    <tr>\n",
       "      <th>3</th>\n",
       "      <td>RegréssionClassique</td>\n",
       "      <td>MAPE (%)</td>\n",
       "      <td>4.601081</td>\n",
       "    </tr>\n",
       "    <tr>\n",
       "      <th>4</th>\n",
       "      <td>Ridge</td>\n",
       "      <td>MAPE (%)</td>\n",
       "      <td>4.601286</td>\n",
       "    </tr>\n",
       "    <tr>\n",
       "      <th>5</th>\n",
       "      <td>Random Forest</td>\n",
       "      <td>MAPE (%)</td>\n",
       "      <td>2.446751</td>\n",
       "    </tr>\n",
       "    <tr>\n",
       "      <th>6</th>\n",
       "      <td>RegréssionClassique</td>\n",
       "      <td>RMSE</td>\n",
       "      <td>0.374434</td>\n",
       "    </tr>\n",
       "    <tr>\n",
       "      <th>7</th>\n",
       "      <td>Ridge</td>\n",
       "      <td>RMSE</td>\n",
       "      <td>0.374446</td>\n",
       "    </tr>\n",
       "    <tr>\n",
       "      <th>8</th>\n",
       "      <td>Random Forest</td>\n",
       "      <td>RMSE</td>\n",
       "      <td>0.236991</td>\n",
       "    </tr>\n",
       "    <tr>\n",
       "      <th>9</th>\n",
       "      <td>RegréssionClassique</td>\n",
       "      <td>R2</td>\n",
       "      <td>0.555988</td>\n",
       "    </tr>\n",
       "    <tr>\n",
       "      <th>10</th>\n",
       "      <td>Ridge</td>\n",
       "      <td>R2</td>\n",
       "      <td>0.555959</td>\n",
       "    </tr>\n",
       "    <tr>\n",
       "      <th>11</th>\n",
       "      <td>Random Forest</td>\n",
       "      <td>R2</td>\n",
       "      <td>0.822128</td>\n",
       "    </tr>\n",
       "  </tbody>\n",
       "</table>\n",
       "</div>"
      ],
      "text/plain": [
       "                 Modèle  variable     score\n",
       "0   RegréssionClassique       MSE  0.140201\n",
       "1                 Ridge       MSE  0.140210\n",
       "2         Random Forest       MSE  0.056165\n",
       "3   RegréssionClassique  MAPE (%)  4.601081\n",
       "4                 Ridge  MAPE (%)  4.601286\n",
       "5         Random Forest  MAPE (%)  2.446751\n",
       "6   RegréssionClassique      RMSE  0.374434\n",
       "7                 Ridge      RMSE  0.374446\n",
       "8         Random Forest      RMSE  0.236991\n",
       "9   RegréssionClassique        R2  0.555988\n",
       "10                Ridge        R2  0.555959\n",
       "11        Random Forest        R2  0.822128"
      ]
     },
     "execution_count": 84,
     "metadata": {},
     "output_type": "execute_result"
    }
   ],
   "source": [
    "performances_modeles"
   ]
  },
  {
   "cell_type": "code",
   "execution_count": 85,
   "id": "ab49277d",
   "metadata": {},
   "outputs": [
    {
     "data": {
      "image/png": "[encoded data removed]",
      "text/plain": [
       "<Figure size 432x288 with 1 Axes>"
      ]
     },
     "metadata": {
      "needs_background": "light"
     },
     "output_type": "display_data"
    }
   ],
   "source": [
    "plt.figure()\n",
    "sns.barplot(x = performances_modeles['Modèle'],\n",
    "            y = performances_modeles['score'], hue = performances_modeles['variable'],palette=['blue','green', 'yellow','orange']);\n",
    "plt.title('Comparaison des performances des modèles');"
   ]
  },
  {
   "cell_type": "markdown",
   "id": "77dca51b",
   "metadata": {},
   "source": [
    "Clairement, nous voyons que le modèle Random Forest est le mieux adapté pour notre étude : Celui avec le MSE et le RMSE le plus proche de 0, le MAPE le plus petit et le coefficient de détermination R2 le plus proche. \n",
    "Comparons maintenant le temps d'exécution entre les régressions :"
   ]
  },
  {
   "cell_type": "code",
   "execution_count": 86,
   "id": "52358d24",
   "metadata": {},
   "outputs": [],
   "source": [
    "time_comparator = pd.melt(comparaison.reset_index(), id_vars = ['Modèle'], value_name = 'score', value_vars=['Tps éxécution (s)'])"
   ]
  },
  {
   "cell_type": "code",
   "execution_count": 87,
   "id": "0f13ff06",
   "metadata": {},
   "outputs": [
    {
     "data": {
      "text/html": [
       "<div>\n",
       "<style scoped>\n",
       "    .dataframe tbody tr th:only-of-type {\n",
       "        vertical-align: middle;\n",
       "    }\n",
       "\n",
       "    .dataframe tbody tr th {\n",
       "        vertical-align: top;\n",
       "    }\n",
       "\n",
       "    .dataframe thead th {\n",
       "        text-align: right;\n",
       "    }\n",
       "</style>\n",
       "<table border=\"1\" class=\"dataframe\">\n",
       "  <thead>\n",
       "    <tr style=\"text-align: right;\">\n",
       "      <th></th>\n",
       "      <th>Modèle</th>\n",
       "      <th>variable</th>\n",
       "      <th>score</th>\n",
       "    </tr>\n",
       "  </thead>\n",
       "  <tbody>\n",
       "    <tr>\n",
       "      <th>0</th>\n",
       "      <td>RegréssionClassique</td>\n",
       "      <td>Tps éxécution (s)</td>\n",
       "      <td>23.221286</td>\n",
       "    </tr>\n",
       "    <tr>\n",
       "      <th>1</th>\n",
       "      <td>Ridge</td>\n",
       "      <td>Tps éxécution (s)</td>\n",
       "      <td>97.883275</td>\n",
       "    </tr>\n",
       "    <tr>\n",
       "      <th>2</th>\n",
       "      <td>Random Forest</td>\n",
       "      <td>Tps éxécution (s)</td>\n",
       "      <td>35.371278</td>\n",
       "    </tr>\n",
       "  </tbody>\n",
       "</table>\n",
       "</div>"
      ],
      "text/plain": [
       "                Modèle           variable      score\n",
       "0  RegréssionClassique  Tps éxécution (s)  23.221286\n",
       "1                Ridge  Tps éxécution (s)  97.883275\n",
       "2        Random Forest  Tps éxécution (s)  35.371278"
      ]
     },
     "execution_count": 87,
     "metadata": {},
     "output_type": "execute_result"
    }
   ],
   "source": [
    "time_comparator"
   ]
  },
  {
   "cell_type": "code",
   "execution_count": 88,
   "id": "3bd8e6df",
   "metadata": {},
   "outputs": [
    {
     "data": {
      "text/plain": [
       "Text(0.5, 1.0, 'Comparaison des performances de temps des modèles')"
      ]
     },
     "execution_count": 88,
     "metadata": {},
     "output_type": "execute_result"
    },
    {
     "data": {
      "image/png": "[encoded data removed]",
      "text/plain": [
       "<Figure size 432x288 with 1 Axes>"
      ]
     },
     "metadata": {
      "needs_background": "light"
     },
     "output_type": "display_data"
    }
   ],
   "source": [
    "plt.figure()\n",
    "sns.barplot(x = time_comparator['Modèle'],\n",
    "            y = time_comparator['score']);\n",
    "plt.title('Comparaison des performances de temps des modèles')"
   ]
  },
  {
   "cell_type": "markdown",
   "id": "7ea73488",
   "metadata": {},
   "source": [
    "Nous concluons donc que le modèle Random Forest est le modèle qui peut être le plus adapté pour nos prédictions, au vue de la valeur du coefficient de détermination R2 qui se rapproche de 1 et des valeurs du MSE,RMSE qui se rapprochent plutot de 0, mais aussi pour le temps d'execution faible. Nous utiliserons donc ce modèle pour prédire le C02."
   ]
  },
  {
   "cell_type": "markdown",
   "id": "78096e0b",
   "metadata": {},
   "source": [
    "# Evaluation du modèle choisi (Dummy)"
   ]
  },
  {
   "cell_type": "code",
   "execution_count": 89,
   "id": "aabdc1df",
   "metadata": {},
   "outputs": [
    {
     "data": {
      "text/plain": [
       "DummyRegressor(strategy='median')"
      ]
     },
     "execution_count": 89,
     "metadata": {},
     "output_type": "execute_result"
    }
   ],
   "source": [
    "from sklearn import dummy\n",
    "dummy = dummy.DummyRegressor(strategy='median')\n",
    "dummy.fit(X_scale_train, y_train)"
   ]
  },
  {
   "cell_type": "markdown",
   "id": "51796afc",
   "metadata": {},
   "source": [
    "Prédiction sur le jeu de test : "
   ]
  },
  {
   "cell_type": "code",
   "execution_count": 90,
   "id": "8b69307d",
   "metadata": {},
   "outputs": [],
   "source": [
    "y_pred_dummy = dummy.predict(X_scale_test)"
   ]
  },
  {
   "cell_type": "markdown",
   "id": "b5d467a0",
   "metadata": {},
   "source": [
    "Evaluation du MSE : "
   ]
  },
  {
   "cell_type": "code",
   "execution_count": 91,
   "id": "88c17f7c",
   "metadata": {},
   "outputs": [
    {
     "name": "stdout",
     "output_type": "stream",
     "text": [
      "MSE : 0.33 ,Valeur dans la Regression Random Forest 0.05616467276212602\n"
     ]
    }
   ],
   "source": [
    "print(\"MSE : {:.2f}\".format(mean_squared_error(y_test, y_pred_dummy)),',Valeur dans la Regression Random Forest',MSERandom)"
   ]
  },
  {
   "cell_type": "markdown",
   "id": "ccc15ff1",
   "metadata": {},
   "source": [
    "# Prédiction CO2"
   ]
  },
  {
   "cell_type": "code",
   "execution_count": 92,
   "id": "75464b20",
   "metadata": {},
   "outputs": [
    {
     "name": "stderr",
     "output_type": "stream",
     "text": [
      "C:\\Users\\nha5600\\Anaconda3\\lib\\site-packages\\numpy\\core\\_asarray.py:102: VisibleDeprecationWarning: Creating an ndarray from ragged nested sequences (which is a list-or-tuple of lists-or-tuples-or ndarrays with different lengths or shapes) is deprecated. If you meant to do this, you must specify 'dtype=object' when creating the ndarray.\n",
      "  return array(a, dtype, copy=False, order=order)\n"
     ]
    }
   ],
   "source": [
    "X_CO2=data[['YearBuilt', 'NumberofBuildings', 'NumberofFloors', 'PropertyGFATotal', 'PropertyGFAParking', 'PropertyGFABuilding(s)',\n",
    "('Center / East',),('North',),('South',),('West',),('Commercial',),('Education',),('Family',),('Hotel',),('Medical',),\n",
    "('Office',),('Other',),('Storage',),('Worship Facility',) ]]"
   ]
  },
  {
   "cell_type": "code",
   "execution_count": 93,
   "id": "938397b4",
   "metadata": {},
   "outputs": [],
   "source": [
    "y_CO2 = data['TotalGHGEmissionsLog']"
   ]
  },
  {
   "cell_type": "markdown",
   "id": "d6089b78",
   "metadata": {},
   "source": [
    "A noter que le standard scaler est sensible aux outliers, c'est la raison pour laquelle nous avons fait une transformation en log.\n",
    "(Robust scaler = x-mediane/ ecart interquartille)"
   ]
  },
  {
   "cell_type": "code",
   "execution_count": 94,
   "id": "2a96efd6",
   "metadata": {},
   "outputs": [],
   "source": [
    "from sklearn import preprocessing\n",
    "from sklearn.preprocessing import RobustScaler"
   ]
  },
  {
   "cell_type": "code",
   "execution_count": 95,
   "id": "2ca7a6c7",
   "metadata": {},
   "outputs": [],
   "source": [
    "from sklearn.model_selection import train_test_split\n",
    "X_train,X_test,y_train,y_test=train_test_split(X_CO2,y_CO2,test_size=0.30)\n",
    "std_scale=preprocessing.StandardScaler().fit(X_train)\n",
    "X_scale_train=std_scale.transform(X_train)\n",
    "X_scale_test=std_scale.transform(X_test)"
   ]
  },
  {
   "cell_type": "markdown",
   "id": "318cb625",
   "metadata": {},
   "source": [
    "De la même manière que pour l'énergie, nous raisonnons sur le modèle Random Forest pour estimer les valeurs du CO2."
   ]
  },
  {
   "cell_type": "code",
   "execution_count": 96,
   "id": "14927579",
   "metadata": {},
   "outputs": [
    {
     "data": {
      "text/plain": [
       "GridSearchCV(cv=5, estimator=RandomForestRegressor(random_state=50),\n",
       "             param_grid={'n_estimators': [50, 100, 150, 200]},\n",
       "             return_train_score=True, scoring='neg_mean_squared_error')"
      ]
     },
     "execution_count": 96,
     "metadata": {},
     "output_type": "execute_result"
    }
   ],
   "source": [
    "modelrf=RandomForestRegressor(bootstrap=True,random_state=50)\n",
    "params = {'n_estimators':[50,100,150,200]}\n",
    "grid=GridSearchCV(modelrf,param_grid=params,cv=5,return_train_score=True,scoring='neg_mean_squared_error')\n",
    "grid.fit(X_scale_train,y_train)"
   ]
  },
  {
   "cell_type": "code",
   "execution_count": 97,
   "id": "a96d1413",
   "metadata": {},
   "outputs": [
    {
     "data": {
      "text/plain": [
       "RandomForestRegressor(n_estimators=200, random_state=50)"
      ]
     },
     "execution_count": 97,
     "metadata": {},
     "output_type": "execute_result"
    }
   ],
   "source": [
    "rf = grid.best_estimator_\n",
    "rf"
   ]
  },
  {
   "cell_type": "markdown",
   "id": "b65ab9a8",
   "metadata": {},
   "source": [
    "Nous établissons maintenant de la même manière que sur l'énergie nos calculs sur le MSE, le RMSE, le R2 et le MAPE :"
   ]
  },
  {
   "cell_type": "code",
   "execution_count": 98,
   "id": "4b630319",
   "metadata": {},
   "outputs": [
    {
     "name": "stdout",
     "output_type": "stream",
     "text": [
      " MSE Random Forest pour le CO2 : 0.07996610714456326\n"
     ]
    }
   ],
   "source": [
    "y_predCo2 = rf.predict(X_scale_test)\n",
    "mseCO2 = mean_squared_error(y_test,y_predCo2)\n",
    "print(' MSE Random Forest pour le CO2 :', mseCO2)"
   ]
  },
  {
   "cell_type": "code",
   "execution_count": 99,
   "id": "8d3ff7f1",
   "metadata": {},
   "outputs": [
    {
     "name": "stdout",
     "output_type": "stream",
     "text": [
      "MAE Random Forest pour le CO2: 0.194\n"
     ]
    }
   ],
   "source": [
    "maeCO2 = mean_absolute_error(y_test, y_predCo2)\n",
    "print('MAE Random Forest pour le CO2: %.3f' % maeCO2)"
   ]
  },
  {
   "cell_type": "code",
   "execution_count": 100,
   "id": "96a868e2",
   "metadata": {},
   "outputs": [
    {
     "name": "stdout",
     "output_type": "stream",
     "text": [
      "MAPE Random Forest pour le CO2 : 26.329137434321765\n"
     ]
    }
   ],
   "source": [
    "mapeCO2= mean_absolute_percentage_error(y_test, y_predCo2) * 100\n",
    "print('MAPE Random Forest pour le CO2 :' ,mapeCO2)"
   ]
  },
  {
   "cell_type": "code",
   "execution_count": 101,
   "id": "6cf20e47",
   "metadata": {},
   "outputs": [
    {
     "name": "stdout",
     "output_type": "stream",
     "text": [
      "MAPE Random Forest pour le CO2 : 0.28278279145761903\n"
     ]
    }
   ],
   "source": [
    "rmseCO2 = (np.sqrt(mean_squared_error(y_test, y_predCo2)))\n",
    "print('MAPE Random Forest pour le CO2 :' , rmseCO2)"
   ]
  },
  {
   "cell_type": "code",
   "execution_count": 102,
   "id": "66c09d94",
   "metadata": {},
   "outputs": [
    {
     "name": "stdout",
     "output_type": "stream",
     "text": [
      "R2 Random pour le CO2 : 0.7891614584181166\n"
     ]
    }
   ],
   "source": [
    "r2CO2 = r2_score(y_test, y_predCo2)\n",
    "print('R2 Random pour le CO2 :' , r2CO2)"
   ]
  },
  {
   "cell_type": "code",
   "execution_count": 103,
   "id": "13f95538",
   "metadata": {},
   "outputs": [
    {
     "name": "stdout",
     "output_type": "stream",
     "text": [
      "Train Score : 0.9620098022482115\n",
      "Test Score : 0.7891614584181166\n"
     ]
    }
   ],
   "source": [
    "print('Train Score :', rf.score(X_scale_train,y_train))\n",
    "print('Test Score :', rf.score(X_scale_test,y_test))"
   ]
  },
  {
   "cell_type": "code",
   "execution_count": 104,
   "id": "fd72f7df",
   "metadata": {},
   "outputs": [
    {
     "name": "stdout",
     "output_type": "stream",
     "text": [
      "temps de calcul 308.1366872\n"
     ]
    }
   ],
   "source": [
    "elapsedCO2 = timeit.default_timer()-start_time\n",
    "print('temps de calcul', elapsedCO2)"
   ]
  },
  {
   "cell_type": "code",
   "execution_count": 105,
   "id": "624aea6a",
   "metadata": {},
   "outputs": [
    {
     "data": {
      "image/png": "[encoded data removed]",
      "text/plain": [
       "<Figure size 432x288 with 1 Axes>"
      ]
     },
     "metadata": {
      "needs_background": "light"
     },
     "output_type": "display_data"
    }
   ],
   "source": [
    "plt.figure()\n",
    "#sns.lineplot(x = [1.0], y = [1.0], alpha=1)\n",
    "plt.scatter(y_predCo2,y_test)\n",
    "plt.xlabel('Valeurs prédites LOG')\n",
    "plt.ylabel('Valeurs réelles LOG')\n",
    "plt.title('Grapheémission Co2 valeurs prédites en fonction des valeurs réelles')\n",
    "plt.show()"
   ]
  },
  {
   "cell_type": "markdown",
   "id": "1d43a819",
   "metadata": {},
   "source": [
    "# Influence de l'énergy Score"
   ]
  },
  {
   "cell_type": "markdown",
   "id": "34f80147",
   "metadata": {},
   "source": [
    "Avant toute chose, nous vérifions si l'EnergyStarScore n'est pas corrélé à notre variable cible, au même titre que les autres variables "
   ]
  },
  {
   "cell_type": "code",
   "execution_count": 106,
   "id": "57d2f968",
   "metadata": {},
   "outputs": [
    {
     "data": {
      "text/html": [
       "<div>\n",
       "<style scoped>\n",
       "    .dataframe tbody tr th:only-of-type {\n",
       "        vertical-align: middle;\n",
       "    }\n",
       "\n",
       "    .dataframe tbody tr th {\n",
       "        vertical-align: top;\n",
       "    }\n",
       "\n",
       "    .dataframe thead th {\n",
       "        text-align: right;\n",
       "    }\n",
       "</style>\n",
       "<table border=\"1\" class=\"dataframe\">\n",
       "  <thead>\n",
       "    <tr style=\"text-align: right;\">\n",
       "      <th></th>\n",
       "      <th>ENERGYSTARScore</th>\n",
       "      <th>TotalGHGEmissionsLog</th>\n",
       "    </tr>\n",
       "  </thead>\n",
       "  <tbody>\n",
       "    <tr>\n",
       "      <th>ENERGYSTARScore</th>\n",
       "      <td>1.000000</td>\n",
       "      <td>-0.154501</td>\n",
       "    </tr>\n",
       "    <tr>\n",
       "      <th>TotalGHGEmissionsLog</th>\n",
       "      <td>-0.154501</td>\n",
       "      <td>1.000000</td>\n",
       "    </tr>\n",
       "  </tbody>\n",
       "</table>\n",
       "</div>"
      ],
      "text/plain": [
       "                      ENERGYSTARScore  TotalGHGEmissionsLog\n",
       "ENERGYSTARScore              1.000000             -0.154501\n",
       "TotalGHGEmissionsLog        -0.154501              1.000000"
      ]
     },
     "execution_count": 106,
     "metadata": {},
     "output_type": "execute_result"
    }
   ],
   "source": [
    "data[['ENERGYSTARScore', 'TotalGHGEmissionsLog']].corr()"
   ]
  },
  {
   "cell_type": "markdown",
   "id": "cb3ca4ea",
   "metadata": {},
   "source": [
    "On remarque ici que le score ENERGY STAR ne semble pas avoir de corrélation importante avec les émissions de CO2.\n",
    "Nous souhaitons également évaluer l’intérêt de l'ENERGY STAR Score' pour la prédiction d’émissions. Nous allons l'ajouter aux variables de notre X pour prédire nos émissions en CO2."
   ]
  },
  {
   "cell_type": "code",
   "execution_count": 107,
   "id": "93728c28",
   "metadata": {},
   "outputs": [
    {
     "name": "stderr",
     "output_type": "stream",
     "text": [
      "C:\\Users\\nha5600\\Anaconda3\\lib\\site-packages\\numpy\\core\\_asarray.py:102: VisibleDeprecationWarning: Creating an ndarray from ragged nested sequences (which is a list-or-tuple of lists-or-tuples-or ndarrays with different lengths or shapes) is deprecated. If you meant to do this, you must specify 'dtype=object' when creating the ndarray.\n",
      "  return array(a, dtype, copy=False, order=order)\n"
     ]
    }
   ],
   "source": [
    "X_energyscore = data[['ENERGYSTARScore', 'YearBuilt', 'NumberofBuildings', 'NumberofFloors', 'PropertyGFATotal', 'PropertyGFAParking', 'PropertyGFABuilding(s)',\n",
    "('Center / East',),('North',),('South',),('West',),('Commercial',),('Education',),('Family',),('Hotel',),('Medical',),\n",
    "('Office',),('Other',),('Storage',),('Worship Facility',)]]"
   ]
  },
  {
   "cell_type": "code",
   "execution_count": 108,
   "id": "5bef3c7a",
   "metadata": {},
   "outputs": [],
   "source": [
    "y_energyscore = data['TotalGHGEmissionsLog']"
   ]
  },
  {
   "cell_type": "markdown",
   "id": "38ca4419",
   "metadata": {},
   "source": [
    "On filtre les données ayant un Energy Star Score non renseigné pour nos prédictions :"
   ]
  },
  {
   "cell_type": "code",
   "execution_count": 109,
   "id": "6ef3417a",
   "metadata": {},
   "outputs": [],
   "source": [
    "X_energyscore = X_energyscore[X_energyscore['ENERGYSTARScore'].isnull()==False]\n",
    "y_energyscore = y_energyscore[y_energyscore.index.isin(list(X_energyscore.index))]"
   ]
  },
  {
   "cell_type": "code",
   "execution_count": 110,
   "id": "c59e73e1",
   "metadata": {},
   "outputs": [],
   "source": [
    "X_train,X_test,y_train,y_test=train_test_split(X_energyscore,y_energyscore,test_size=0.30)\n",
    "std_scale=preprocessing.StandardScaler().fit(X_train)\n",
    "X_scale_train=std_scale.transform(X_train)\n",
    "X_scale_test=std_scale.transform(X_test)"
   ]
  },
  {
   "cell_type": "code",
   "execution_count": 111,
   "id": "d959a976",
   "metadata": {},
   "outputs": [
    {
     "data": {
      "text/plain": [
       "Text(0, 0.5, 'Score MSE')"
      ]
     },
     "execution_count": 111,
     "metadata": {},
     "output_type": "execute_result"
    },
    {
     "data": {
      "image/png": "[encoded data removed]",
      "text/plain": [
       "<Figure size 432x288 with 1 Axes>"
      ]
     },
     "metadata": {
      "needs_background": "light"
     },
     "output_type": "display_data"
    }
   ],
   "source": [
    "from sklearn.ensemble import RandomForestRegressor\n",
    "\n",
    "val_score=[]\n",
    "#cv=KFold(5,shuffle=True,random_state=0)\n",
    "nbrarbres=[50,100,150,200]\n",
    "for k in nbrarbres:\n",
    "    randomForest=RandomForestRegressor(random_state=50,bootstrap=True,n_estimators=k)\n",
    "    score=cross_val_score(randomForest,X_scale_train,y_train,scoring='neg_mean_squared_error',cv=5).mean()\n",
    "    score=abs(score)\n",
    "    val_score.append(score)\n",
    "    #print('MSE_train CrossValidation : %.3f' %abs(score))\n",
    "plt.figure()\n",
    "plt.plot(val_score,label='Validation')\n",
    "plt.axhline(y=min(val_score), color='r',label='MSE faible')\n",
    "plt.title('Choix du parametre avec la cross validation')\n",
    "plt.legend()\n",
    "plt.xlabel('Valeur du Nbre Arbre')\n",
    "plt.ylabel('Score MSE')"
   ]
  },
  {
   "cell_type": "code",
   "execution_count": 112,
   "id": "4d88f723",
   "metadata": {},
   "outputs": [],
   "source": [
    "modelrf=RandomForestRegressor(bootstrap=True,random_state=50)\n",
    "params = {'n_estimators':[50,100,150,200]}\n",
    "grid=GridSearchCV(modelrf,param_grid=params,cv=5,return_train_score=True)"
   ]
  },
  {
   "cell_type": "code",
   "execution_count": 113,
   "id": "bf020ddb",
   "metadata": {},
   "outputs": [
    {
     "data": {
      "text/plain": [
       "GridSearchCV(cv=5, estimator=RandomForestRegressor(random_state=50),\n",
       "             param_grid={'n_estimators': [50, 100, 150, 200]},\n",
       "             return_train_score=True)"
      ]
     },
     "execution_count": 113,
     "metadata": {},
     "output_type": "execute_result"
    }
   ],
   "source": [
    "start_time=timeit.default_timer()\n",
    "grid.fit(X_scale_train,y_train)"
   ]
  },
  {
   "cell_type": "code",
   "execution_count": 114,
   "id": "b5b07dbd",
   "metadata": {},
   "outputs": [
    {
     "data": {
      "text/plain": [
       "0.7497394670811606"
      ]
     },
     "execution_count": 114,
     "metadata": {},
     "output_type": "execute_result"
    }
   ],
   "source": [
    "grid.best_score_"
   ]
  },
  {
   "cell_type": "code",
   "execution_count": 115,
   "id": "584a3612",
   "metadata": {},
   "outputs": [
    {
     "data": {
      "text/plain": [
       "RandomForestRegressor(n_estimators=200, random_state=50)"
      ]
     },
     "execution_count": 115,
     "metadata": {},
     "output_type": "execute_result"
    }
   ],
   "source": [
    "grid.best_estimator_"
   ]
  },
  {
   "cell_type": "code",
   "execution_count": 116,
   "id": "1eef6cc2",
   "metadata": {},
   "outputs": [],
   "source": [
    "rf2=rf.fit(X_scale_train,y_train)"
   ]
  },
  {
   "cell_type": "code",
   "execution_count": 117,
   "id": "d1640ee7",
   "metadata": {},
   "outputs": [
    {
     "name": "stdout",
     "output_type": "stream",
     "text": [
      "Notre MSE avec Energy Star Score est égale à 0.08391026506305213\n"
     ]
    }
   ],
   "source": [
    "y_predi_energy = rf2.predict(X_scale_test)\n",
    "\n",
    "MSECO2_E =mean_squared_error(y_test,y_predi_energy)\n",
    "print('Notre MSE avec Energy Star Score est égale à', MSECO2_E)"
   ]
  },
  {
   "cell_type": "code",
   "execution_count": 118,
   "id": "af26f148",
   "metadata": {},
   "outputs": [
    {
     "name": "stdout",
     "output_type": "stream",
     "text": [
      "Notre MAE avec Energy Star Score est égale à 0.20402695675009297\n"
     ]
    }
   ],
   "source": [
    "MAECO2_E = mean_absolute_error(y_test, y_predi_energy)\n",
    "print('Notre MAE avec Energy Star Score est égale à', MAECO2_E )"
   ]
  },
  {
   "cell_type": "code",
   "execution_count": 119,
   "id": "26ad4835",
   "metadata": {},
   "outputs": [
    {
     "name": "stdout",
     "output_type": "stream",
     "text": [
      "Notre MAPE avec Energy Star Score est égale à 20.321791699596396\n"
     ]
    }
   ],
   "source": [
    "MAPECO2_E = mean_absolute_percentage_error(y_test, y_predi_energy) * 100\n",
    "print('Notre MAPE avec Energy Star Score est égale à', MAPECO2_E)"
   ]
  },
  {
   "cell_type": "code",
   "execution_count": 120,
   "id": "872cce30",
   "metadata": {},
   "outputs": [
    {
     "name": "stdout",
     "output_type": "stream",
     "text": [
      "Notre RMSE avec Energy Star Score est égale à 0.2896726860838835\n"
     ]
    }
   ],
   "source": [
    "RMSECO2_E = (np.sqrt(mean_squared_error(y_test, y_predi_energy)))\n",
    "print('Notre RMSE avec Energy Star Score est égale à', RMSECO2_E)"
   ]
  },
  {
   "cell_type": "code",
   "execution_count": 121,
   "id": "ed261765",
   "metadata": {},
   "outputs": [
    {
     "name": "stdout",
     "output_type": "stream",
     "text": [
      "Notre R2 coefficient de détermination avec Energy Star Score est égal à 0.7728025295687044\n"
     ]
    }
   ],
   "source": [
    "R2CO2_E = r2_score(y_test, y_predi_energy)\n",
    "print('Notre R2 coefficient de détermination avec Energy Star Score est égal à', R2CO2_E)"
   ]
  },
  {
   "cell_type": "code",
   "execution_count": 122,
   "id": "77df049a",
   "metadata": {},
   "outputs": [
    {
     "name": "stdout",
     "output_type": "stream",
     "text": [
      "Train Score : 0.9693676599722924\n",
      "Test Score : 0.7728025295687044\n"
     ]
    }
   ],
   "source": [
    "print('Train Score :', rf2.score(X_scale_train,y_train))\n",
    "print('Test Score :', rf2.score(X_scale_test,y_test))"
   ]
  },
  {
   "cell_type": "code",
   "execution_count": 123,
   "id": "82e1b231",
   "metadata": {},
   "outputs": [
    {
     "name": "stdout",
     "output_type": "stream",
     "text": [
      "temps de calcul 54.62809010000001\n"
     ]
    }
   ],
   "source": [
    "elapsedCO2_E = timeit.default_timer()- start_time\n",
    "print('temps de calcul',elapsedCO2_E)"
   ]
  },
  {
   "cell_type": "markdown",
   "id": "0a396224",
   "metadata": {},
   "source": [
    "# Comparaison avec et sans Energy Star Score"
   ]
  },
  {
   "cell_type": "markdown",
   "id": "5ac71ce1",
   "metadata": {},
   "source": [
    "Nous comparons les résultats obtenus sur les prédictions avec et sans la variable EnergyStarScore."
   ]
  },
  {
   "cell_type": "code",
   "execution_count": 124,
   "id": "b2be3a8e",
   "metadata": {},
   "outputs": [],
   "source": [
    "resultat_energie =pd.DataFrame({'Energy Star Score': ['Avec', 'Sans'],'MSE':[mseCO2, MSECO2_E],'R2':[r2CO2, R2CO2_E], 'RMSE' : [rmseCO2, RMSECO2_E], 'Tps éxécution (s)':[elapsedCO2, elapsedCO2_E]})"
   ]
  },
  {
   "cell_type": "code",
   "execution_count": 125,
   "id": "6543f824",
   "metadata": {},
   "outputs": [
    {
     "data": {
      "text/html": [
       "<div>\n",
       "<style scoped>\n",
       "    .dataframe tbody tr th:only-of-type {\n",
       "        vertical-align: middle;\n",
       "    }\n",
       "\n",
       "    .dataframe tbody tr th {\n",
       "        vertical-align: top;\n",
       "    }\n",
       "\n",
       "    .dataframe thead th {\n",
       "        text-align: right;\n",
       "    }\n",
       "</style>\n",
       "<table border=\"1\" class=\"dataframe\">\n",
       "  <thead>\n",
       "    <tr style=\"text-align: right;\">\n",
       "      <th></th>\n",
       "      <th>Energy Star Score</th>\n",
       "      <th>MSE</th>\n",
       "      <th>R2</th>\n",
       "      <th>RMSE</th>\n",
       "      <th>Tps éxécution (s)</th>\n",
       "    </tr>\n",
       "  </thead>\n",
       "  <tbody>\n",
       "    <tr>\n",
       "      <th>0</th>\n",
       "      <td>Avec</td>\n",
       "      <td>0.079966</td>\n",
       "      <td>0.789161</td>\n",
       "      <td>0.282783</td>\n",
       "      <td>308.136687</td>\n",
       "    </tr>\n",
       "    <tr>\n",
       "      <th>1</th>\n",
       "      <td>Sans</td>\n",
       "      <td>0.083910</td>\n",
       "      <td>0.772803</td>\n",
       "      <td>0.289673</td>\n",
       "      <td>54.628090</td>\n",
       "    </tr>\n",
       "  </tbody>\n",
       "</table>\n",
       "</div>"
      ],
      "text/plain": [
       "  Energy Star Score       MSE        R2      RMSE  Tps éxécution (s)\n",
       "0              Avec  0.079966  0.789161  0.282783         308.136687\n",
       "1              Sans  0.083910  0.772803  0.289673          54.628090"
      ]
     },
     "execution_count": 125,
     "metadata": {},
     "output_type": "execute_result"
    }
   ],
   "source": [
    "resultat_energie"
   ]
  },
  {
   "cell_type": "code",
   "execution_count": 126,
   "id": "6556c082",
   "metadata": {},
   "outputs": [],
   "source": [
    "comparaison_energie = pd.melt(resultat_energie.reset_index(), id_vars = ['Energy Star Score'], value_name = 'score', value_vars=['MSE', 'RMSE', 'R2'])"
   ]
  },
  {
   "cell_type": "code",
   "execution_count": 127,
   "id": "52243ed5",
   "metadata": {},
   "outputs": [
    {
     "data": {
      "text/html": [
       "<div>\n",
       "<style scoped>\n",
       "    .dataframe tbody tr th:only-of-type {\n",
       "        vertical-align: middle;\n",
       "    }\n",
       "\n",
       "    .dataframe tbody tr th {\n",
       "        vertical-align: top;\n",
       "    }\n",
       "\n",
       "    .dataframe thead th {\n",
       "        text-align: right;\n",
       "    }\n",
       "</style>\n",
       "<table border=\"1\" class=\"dataframe\">\n",
       "  <thead>\n",
       "    <tr style=\"text-align: right;\">\n",
       "      <th></th>\n",
       "      <th>Energy Star Score</th>\n",
       "      <th>variable</th>\n",
       "      <th>score</th>\n",
       "    </tr>\n",
       "  </thead>\n",
       "  <tbody>\n",
       "    <tr>\n",
       "      <th>0</th>\n",
       "      <td>Avec</td>\n",
       "      <td>MSE</td>\n",
       "      <td>0.079966</td>\n",
       "    </tr>\n",
       "    <tr>\n",
       "      <th>1</th>\n",
       "      <td>Sans</td>\n",
       "      <td>MSE</td>\n",
       "      <td>0.083910</td>\n",
       "    </tr>\n",
       "    <tr>\n",
       "      <th>2</th>\n",
       "      <td>Avec</td>\n",
       "      <td>RMSE</td>\n",
       "      <td>0.282783</td>\n",
       "    </tr>\n",
       "    <tr>\n",
       "      <th>3</th>\n",
       "      <td>Sans</td>\n",
       "      <td>RMSE</td>\n",
       "      <td>0.289673</td>\n",
       "    </tr>\n",
       "    <tr>\n",
       "      <th>4</th>\n",
       "      <td>Avec</td>\n",
       "      <td>R2</td>\n",
       "      <td>0.789161</td>\n",
       "    </tr>\n",
       "    <tr>\n",
       "      <th>5</th>\n",
       "      <td>Sans</td>\n",
       "      <td>R2</td>\n",
       "      <td>0.772803</td>\n",
       "    </tr>\n",
       "  </tbody>\n",
       "</table>\n",
       "</div>"
      ],
      "text/plain": [
       "  Energy Star Score variable     score\n",
       "0              Avec      MSE  0.079966\n",
       "1              Sans      MSE  0.083910\n",
       "2              Avec     RMSE  0.282783\n",
       "3              Sans     RMSE  0.289673\n",
       "4              Avec       R2  0.789161\n",
       "5              Sans       R2  0.772803"
      ]
     },
     "execution_count": 127,
     "metadata": {},
     "output_type": "execute_result"
    }
   ],
   "source": [
    "comparaison_energie"
   ]
  },
  {
   "cell_type": "code",
   "execution_count": 128,
   "id": "8a92621e",
   "metadata": {},
   "outputs": [
    {
     "data": {
      "image/png": "[encoded data removed]",
      "text/plain": [
       "<Figure size 432x288 with 1 Axes>"
      ]
     },
     "metadata": {
      "needs_background": "light"
     },
     "output_type": "display_data"
    }
   ],
   "source": [
    "plt.figure()\n",
    "sns.barplot(x = comparaison_energie['Energy Star Score'],\n",
    "            y = comparaison_energie['score'], hue = comparaison_energie['variable'],palette=['green', 'yellow','orange']);\n",
    "plt.title('Comparaison des performances CO2 avec et sans Energy Star Score');"
   ]
  },
  {
   "cell_type": "markdown",
   "id": "73fb65f3",
   "metadata": {},
   "source": [
    "Les métriques ne semblent pas très différentes avec et sans EnergyStarScore. Voyons voir le temps d'execution : "
   ]
  },
  {
   "cell_type": "code",
   "execution_count": 129,
   "id": "947417bc",
   "metadata": {},
   "outputs": [],
   "source": [
    "temps_energie = pd.melt(resultat_energie.reset_index(), id_vars = ['Energy Star Score'], value_name = 'score', value_vars=['Tps éxécution (s)'])"
   ]
  },
  {
   "cell_type": "code",
   "execution_count": 130,
   "id": "6f29a93f",
   "metadata": {},
   "outputs": [
    {
     "data": {
      "text/html": [
       "<div>\n",
       "<style scoped>\n",
       "    .dataframe tbody tr th:only-of-type {\n",
       "        vertical-align: middle;\n",
       "    }\n",
       "\n",
       "    .dataframe tbody tr th {\n",
       "        vertical-align: top;\n",
       "    }\n",
       "\n",
       "    .dataframe thead th {\n",
       "        text-align: right;\n",
       "    }\n",
       "</style>\n",
       "<table border=\"1\" class=\"dataframe\">\n",
       "  <thead>\n",
       "    <tr style=\"text-align: right;\">\n",
       "      <th></th>\n",
       "      <th>Energy Star Score</th>\n",
       "      <th>variable</th>\n",
       "      <th>score</th>\n",
       "    </tr>\n",
       "  </thead>\n",
       "  <tbody>\n",
       "    <tr>\n",
       "      <th>0</th>\n",
       "      <td>Avec</td>\n",
       "      <td>Tps éxécution (s)</td>\n",
       "      <td>308.136687</td>\n",
       "    </tr>\n",
       "    <tr>\n",
       "      <th>1</th>\n",
       "      <td>Sans</td>\n",
       "      <td>Tps éxécution (s)</td>\n",
       "      <td>54.628090</td>\n",
       "    </tr>\n",
       "  </tbody>\n",
       "</table>\n",
       "</div>"
      ],
      "text/plain": [
       "  Energy Star Score           variable       score\n",
       "0              Avec  Tps éxécution (s)  308.136687\n",
       "1              Sans  Tps éxécution (s)   54.628090"
      ]
     },
     "execution_count": 130,
     "metadata": {},
     "output_type": "execute_result"
    }
   ],
   "source": [
    "temps_energie"
   ]
  },
  {
   "cell_type": "code",
   "execution_count": 131,
   "id": "e34abfca",
   "metadata": {},
   "outputs": [
    {
     "data": {
      "text/plain": [
       "Text(0.5, 1.0, 'Comparaison des performances de temps avec et sans Energy Star Score')"
      ]
     },
     "execution_count": 131,
     "metadata": {},
     "output_type": "execute_result"
    },
    {
     "data": {
      "image/png": "[encoded data removed]",
      "text/plain": [
       "<Figure size 432x288 with 1 Axes>"
      ]
     },
     "metadata": {
      "needs_background": "light"
     },
     "output_type": "display_data"
    }
   ],
   "source": [
    "plt.figure()\n",
    "sns.barplot(x = temps_energie['Energy Star Score'],\n",
    "            y = temps_energie['score'])\n",
    "\n",
    "plt.title('Comparaison des performances de temps avec et sans Energy Star Score')"
   ]
  },
  {
   "cell_type": "markdown",
   "id": "7f43fa9a",
   "metadata": {},
   "source": [
    "Les métriques ne se sont pas autant améliorées suite à la prise en compte de l'ENERGY STAR Score.\n",
    "Cette variable est encore très peu renseignée et le jeu de données comporte peu d'entrées. Il est donc difficile de savoir si cette amélioration est rééllement significative. En plus, le temps d'execution sans l'Energy Star Score est bien plus faible. Le bénéfice (vis à vis du coût) de ce score ne sont pas forcément évidents et il serait conseillé pour le moment de ne pas l'utiliser."
   ]
  },
  {
   "cell_type": "code",
   "execution_count": null,
   "id": "e8f3df17",
   "metadata": {},
   "outputs": [],
   "source": []
  }
 ],
 "metadata": {
  "kernelspec": {
   "display_name": "Python 3 (ipykernel)",
   "language": "python",
   "name": "python3"
  },
  "language_info": {
   "codemirror_mode": {
    "name": "ipython",
    "version": 3
   },
   "file_extension": ".py",
   "mimetype": "text/x-python",
   "name": "python",
   "nbconvert_exporter": "python",
   "pygments_lexer": "ipython3",
   "version": "3.9.7"
  }
 },
 "nbformat": 4,
 "nbformat_minor": 5
}
